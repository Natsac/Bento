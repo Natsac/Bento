{
 "cells": [
  {
   "cell_type": "code",
   "execution_count": 3,
   "id": "e6ba2c00",
   "metadata": {},
   "outputs": [],
   "source": [
    "import pandas as pd"
   ]
  },
  {
   "cell_type": "code",
   "execution_count": 4,
   "id": "28ac61e7",
   "metadata": {},
   "outputs": [],
   "source": [
    "import numpy as np"
   ]
  },
  {
   "cell_type": "code",
   "execution_count": 5,
   "id": "5feffdb7",
   "metadata": {},
   "outputs": [],
   "source": [
    "import matplotlib.pyplot as plt"
   ]
  },
  {
   "cell_type": "code",
   "execution_count": 6,
   "id": "f53a0dec",
   "metadata": {},
   "outputs": [],
   "source": [
    "from sklearn.model_selection import train_test_split"
   ]
  },
  {
   "cell_type": "code",
   "execution_count": 7,
   "id": "eb2f6c77",
   "metadata": {},
   "outputs": [],
   "source": [
    "from sklearn.linear_model import LinearRegression as LR"
   ]
  },
  {
   "cell_type": "code",
   "execution_count": 8,
   "id": "30306527",
   "metadata": {},
   "outputs": [],
   "source": [
    "from sklearn.ensemble import RandomForestRegressor"
   ]
  },
  {
   "cell_type": "code",
   "execution_count": 9,
   "id": "38c5ed39",
   "metadata": {},
   "outputs": [],
   "source": [
    "from sklearn.metrics import mean_squared_error as MSE"
   ]
  },
  {
   "cell_type": "code",
   "execution_count": 11,
   "id": "4b5b48a0",
   "metadata": {},
   "outputs": [],
   "source": [
    "from sklearn.model_selection import KFold"
   ]
  },
  {
   "cell_type": "code",
   "execution_count": 12,
   "id": "9dd5456f",
   "metadata": {},
   "outputs": [],
   "source": [
    "seed = 42"
   ]
  },
  {
   "cell_type": "code",
   "execution_count": 14,
   "id": "ecddc0fc",
   "metadata": {},
   "outputs": [],
   "source": [
    "from matplotlib import pyplot"
   ]
  },
  {
   "cell_type": "code",
   "execution_count": 15,
   "id": "01f5a9ce",
   "metadata": {},
   "outputs": [],
   "source": [
    "from sklearn.neighbors import KNeighborsRegressor"
   ]
  },
  {
   "cell_type": "code",
   "execution_count": 16,
   "id": "0f07d062",
   "metadata": {},
   "outputs": [
    {
     "name": "stdout",
     "output_type": "stream",
     "text": [
      "Requirement already satisfied: lightgbm in c:\\users\\natsu\\anaconda3\\lib\\site-packages (3.3.2)\n",
      "Requirement already satisfied: wheel in c:\\users\\natsu\\anaconda3\\lib\\site-packages (from lightgbm) (0.36.2)\n",
      "Requirement already satisfied: scikit-learn!=0.22.0 in c:\\users\\natsu\\anaconda3\\lib\\site-packages (from lightgbm) (0.24.1)\n",
      "Requirement already satisfied: scipy in c:\\users\\natsu\\anaconda3\\lib\\site-packages (from lightgbm) (1.6.2)\n",
      "Requirement already satisfied: numpy in c:\\users\\natsu\\anaconda3\\lib\\site-packages (from lightgbm) (1.20.1)\n",
      "Requirement already satisfied: threadpoolctl>=2.0.0 in c:\\users\\natsu\\anaconda3\\lib\\site-packages (from scikit-learn!=0.22.0->lightgbm) (2.1.0)\n",
      "Requirement already satisfied: joblib>=0.11 in c:\\users\\natsu\\anaconda3\\lib\\site-packages (from scikit-learn!=0.22.0->lightgbm) (1.0.1)\n",
      "Note: you may need to restart the kernel to use updated packages.\n"
     ]
    }
   ],
   "source": [
    "pip install lightgbm"
   ]
  },
  {
   "cell_type": "code",
   "execution_count": 17,
   "id": "a19d01d4",
   "metadata": {},
   "outputs": [],
   "source": [
    "import lightgbm as lgb"
   ]
  },
  {
   "cell_type": "code",
   "execution_count": 179,
   "id": "0010be80",
   "metadata": {},
   "outputs": [],
   "source": [
    "train = pd.read_csv(\"train.csv\")"
   ]
  },
  {
   "cell_type": "code",
   "execution_count": 180,
   "id": "51852867",
   "metadata": {},
   "outputs": [],
   "source": [
    "test = pd.read_csv(\"test.csv\")"
   ]
  },
  {
   "cell_type": "markdown",
   "id": "64e105d7",
   "metadata": {},
   "source": [
    "1. 各変数（remarks, event, payday）についてダミー作成"
   ]
  },
  {
   "cell_type": "code",
   "execution_count": 181,
   "id": "4420a2a3",
   "metadata": {},
   "outputs": [
    {
     "name": "stderr",
     "output_type": "stream",
     "text": [
      "<ipython-input-181-f752d200e5e4>:5: SettingWithCopyWarning: \n",
      "A value is trying to be set on a copy of a slice from a DataFrame\n",
      "\n",
      "See the caveats in the documentation: https://pandas.pydata.org/pandas-docs/stable/user_guide/indexing.html#returning-a-view-versus-a-copy\n",
      "  train[\"remarks\"][i] = 1\n"
     ]
    }
   ],
   "source": [
    "for i in range(0, 337):\n",
    "    if train[\"remarks\"][i] == \"none\":\n",
    "        train[\"remarks\"][i] = 0\n",
    "    else:\n",
    "        train[\"remarks\"][i] = 1"
   ]
  },
  {
   "cell_type": "code",
   "execution_count": 182,
   "id": "d4958b94",
   "metadata": {},
   "outputs": [],
   "source": [
    "train['event'] = train['event'].fillna('none')"
   ]
  },
  {
   "cell_type": "code",
   "execution_count": 183,
   "id": "68e781bf",
   "metadata": {},
   "outputs": [
    {
     "name": "stderr",
     "output_type": "stream",
     "text": [
      "<ipython-input-183-9fb6ad1b555c>:3: SettingWithCopyWarning: \n",
      "A value is trying to be set on a copy of a slice from a DataFrame\n",
      "\n",
      "See the caveats in the documentation: https://pandas.pydata.org/pandas-docs/stable/user_guide/indexing.html#returning-a-view-versus-a-copy\n",
      "  train['event'][i] = 0\n",
      "<ipython-input-183-9fb6ad1b555c>:5: SettingWithCopyWarning: \n",
      "A value is trying to be set on a copy of a slice from a DataFrame\n",
      "\n",
      "See the caveats in the documentation: https://pandas.pydata.org/pandas-docs/stable/user_guide/indexing.html#returning-a-view-versus-a-copy\n",
      "  train['event'][i] = 1\n"
     ]
    }
   ],
   "source": [
    "for i in range(0, 337):\n",
    "    if train['event'][i] == \"none\":\n",
    "        train['event'][i] = 0\n",
    "    else:\n",
    "        train['event'][i] = 1"
   ]
  },
  {
   "cell_type": "code",
   "execution_count": 184,
   "id": "c070928c",
   "metadata": {},
   "outputs": [],
   "source": [
    "train['payday'] = train['payday'].fillna('none')"
   ]
  },
  {
   "cell_type": "code",
   "execution_count": 185,
   "id": "0100da3a",
   "metadata": {},
   "outputs": [
    {
     "name": "stderr",
     "output_type": "stream",
     "text": [
      "<ipython-input-185-46e04fb71acc>:3: SettingWithCopyWarning: \n",
      "A value is trying to be set on a copy of a slice from a DataFrame\n",
      "\n",
      "See the caveats in the documentation: https://pandas.pydata.org/pandas-docs/stable/user_guide/indexing.html#returning-a-view-versus-a-copy\n",
      "  train['payday'][i] = 0\n",
      "<ipython-input-185-46e04fb71acc>:5: SettingWithCopyWarning: \n",
      "A value is trying to be set on a copy of a slice from a DataFrame\n",
      "\n",
      "See the caveats in the documentation: https://pandas.pydata.org/pandas-docs/stable/user_guide/indexing.html#returning-a-view-versus-a-copy\n",
      "  train['payday'][i] = 1\n"
     ]
    }
   ],
   "source": [
    "for i in range(0, 337):\n",
    "    if train['payday'][i] == \"none\":\n",
    "        train['payday'][i] = 0\n",
    "    else:\n",
    "        train['payday'][i] = 1"
   ]
  },
  {
   "cell_type": "code",
   "execution_count": 186,
   "id": "a8080c0a",
   "metadata": {},
   "outputs": [
    {
     "data": {
      "text/plain": [
       "300"
      ]
     },
     "execution_count": 186,
     "metadata": {},
     "output_type": "execute_result"
    }
   ],
   "source": [
    "pd.get_option(\"display.max_columns\")"
   ]
  },
  {
   "cell_type": "markdown",
   "id": "11b68f3b",
   "metadata": {},
   "source": [
    "2．弁当の名前を調理法ごとに分類"
   ]
  },
  {
   "cell_type": "code",
   "execution_count": 187,
   "id": "850ce275",
   "metadata": {},
   "outputs": [
    {
     "data": {
      "text/plain": [
       "メンチカツ               9\n",
       "タンドリーチキン            7\n",
       "カレーライス              6\n",
       "ポークカレー              6\n",
       "親子煮                 6\n",
       "豚キムチ炒め              6\n",
       "麻婆豆腐                5\n",
       "ポーク生姜焼き             5\n",
       "豚肉のマスタード焼き          5\n",
       "チンジャオロース            4\n",
       "酢豚                  4\n",
       "豚柳川                 4\n",
       "手作りチキンカツ            4\n",
       "チーズメンチカツ            4\n",
       "チキンカレー              4\n",
       "鶏肉の唐揚げ              4\n",
       "エビフライ               4\n",
       "自家製手作りトンカツ          3\n",
       "ビーフストロガノフ           3\n",
       "鶏の味噌漬け焼き            3\n",
       "塩唐揚げ                3\n",
       "肉じゃが                3\n",
       "牛丼風煮                3\n",
       "白身魚ムニエル             3\n",
       "白身魚カレームニエル          3\n",
       "手作りロースカツ            3\n",
       "バーベキューチキン           3\n",
       "キーマカレー              3\n",
       "ビーフシチュー             2\n",
       "牛肉コロッケ              2\n",
       "手作りトンカツ             2\n",
       "マーボ茄子               2\n",
       "牛丼風                 2\n",
       "八宝菜                 2\n",
       "鶏の唐揚げおろしソース         2\n",
       "サーモンのムニエル2色ソース      2\n",
       "チーズハンバーグ            2\n",
       "夏野菜カレー              2\n",
       "ガーリックトマトチキン         2\n",
       "油淋鶏                 2\n",
       "炊き込みご飯              2\n",
       "ミックスグリル             2\n",
       "チキン山賊焼き             2\n",
       "カレーライス(ポークカレー)      2\n",
       "チキンの辛味噌焼き           2\n",
       "彩り野菜と鶏肉の黒酢あん        2\n",
       "豚肉の中華炒め             2\n",
       "厚切イカフライ             2\n",
       "豚すき焼き               2\n",
       "カレーライス(チキンカレー)      2\n",
       "カツ煮                 2\n",
       "ロコモコ丼               2\n",
       "サーモンフライ・タルタル        2\n",
       "焼魚野菜甘酢              2\n",
       "野菜ごろごろシチュー          2\n",
       "肉野菜オイスター炒め          2\n",
       "和風ハンバーグ             2\n",
       "ハンバーグ               2\n",
       "豚肉の生姜焼き             2\n",
       "カレイの唐揚げ             2\n",
       "豚肉と白菜の中華炒め          1\n",
       "鶏肉の治部煮風             1\n",
       "かじきの甘辛煮             1\n",
       "鶏のから揚げねぎ塩炒めソース      1\n",
       "チキンのガーリックバター炒め      1\n",
       "ハムカツ                1\n",
       "青梗菜牛肉炒め             1\n",
       "牛肉とキノコの赤ワイン煮        1\n",
       "なすと挽肉のはさみ揚げ         1\n",
       "キスと野菜の天ぷら           1\n",
       "ポークソテー・オニオンソース      1\n",
       "牛スキヤキ               1\n",
       "名古屋味噌カツ             1\n",
       "マス塩焼き               1\n",
       "ハンバーグ・きのこデミ         1\n",
       "焼き肉                 1\n",
       "スキヤキ煮込み             1\n",
       "ひやしたぬきうどん・炊き込みご飯    1\n",
       "ハンバーグデミソース          1\n",
       "チキン南蛮               1\n",
       "自家製手作りチキンカツ         1\n",
       "きのこソースハンバーグ         1\n",
       "鶏肉黒胡椒焼き             1\n",
       "グリルチキンピクルス風味        1\n",
       "海老フライ・タルタルソース       1\n",
       "ぶり照焼き・根菜煮           1\n",
       "焼き肉ビビンバ             1\n",
       "豚味噌メンチカツ            1\n",
       "ハンバーグトマトソース         1\n",
       "ハンバーグ・マヨ照りソース       1\n",
       "和牛メンチカツ             1\n",
       "ささ身チーズフライ           1\n",
       "チキンステーキ・きのこソース      1\n",
       "チキンのコーンクリーム焼き       1\n",
       "マーボ豆腐               1\n",
       "ポークソテーデミきのこソース      1\n",
       "マーボー豆腐              1\n",
       "チキン山賊やき             1\n",
       "牛肉筍煮                1\n",
       "カレイ唐揚げ野菜餡かけ         1\n",
       "プルコギ                1\n",
       "白身魚のバジルソース          1\n",
       "カレイ唐揚げ              1\n",
       "鶏肉と野菜の黒胡椒炒め         1\n",
       "白身魚味噌焼き             1\n",
       "たっぷりベーコンフライ         1\n",
       "チャプチェ               1\n",
       "ハンバーグケッチャップソース      1\n",
       "唐揚げ丼                1\n",
       "かに玉・甘酢たれ            1\n",
       "厚揚げ肉味噌炒め            1\n",
       "エビフライ・タルタル          1\n",
       "鶏のトマトシチュー           1\n",
       "鶏肉のスイートチリソース        1\n",
       "マーボー焼きそば            1\n",
       "ベルギー風チキンのクリーム煮      1\n",
       "汁なし担担麺              1\n",
       "ヒレカツ                1\n",
       "えびフライ               1\n",
       "炊き込みご飯の日            1\n",
       "豚肉と玉子の炒め            1\n",
       "ぶり照焼                1\n",
       "鶏肉の山賊焼き             1\n",
       "魚のマスタード焼き           1\n",
       "若鶏梅肉包揚げ             1\n",
       "鶏のから揚げスイートチリソース     1\n",
       "ゴーヤチャンプル            1\n",
       "海老天ぷら               1\n",
       "チキンステーキ             1\n",
       "完熟トマトのホットカレー        1\n",
       "牛すき焼き風              1\n",
       "梅しそチキンロール           1\n",
       "鶏のから揚げ              1\n",
       "カレイ唐揚げ 甘酢あん         1\n",
       "和風ソースハンバーグ          1\n",
       "ポークスタミナ焼き           1\n",
       "白身魚の南部焼き            1\n",
       "チャンチャン焼き            1\n",
       "中華丼                 1\n",
       "カニクリームコロッケ          1\n",
       "牛肉すき焼き風             1\n",
       "豚ロースのピザ風チーズ焼き       1\n",
       "鶏の塩から揚げ             1\n",
       "麻婆なす                1\n",
       "スタミナ炒め              1\n",
       "豚肉の胡麻シャブ            1\n",
       "エビフライ・カキフライ         1\n",
       "厚切ハムカツ              1\n",
       "ランチビュッフェ            1\n",
       "豚肉の味噌焼き             1\n",
       "青椒肉絲                1\n",
       "ジャンボチキンカツ           1\n",
       "白身魚唐揚げ野菜餡かけ         1\n",
       "ハンバーグ（デミきのこバター）     1\n",
       "チキンのレモンペッパー焼き       1\n",
       "チキンステーキ・ミートソース      1\n",
       "豚冷シャブ野菜添え           1\n",
       "ハムエッグフライ            1\n",
       "手作りチキンカツ特製ソース       1\n",
       "ぶり照り焼きと根菜煮          1\n",
       "チキン香草焼きマスタードソース     1\n",
       "鶏肉黒胡椒焼きおろしソース       1\n",
       "ポーク黒胡椒焼き            1\n",
       "チキン香草焼き・マスタード       1\n",
       "ビーフトマト煮             1\n",
       "手作りカツカレー            1\n",
       "白身魚フライ              1\n",
       "肉団子のシチュー            1\n",
       "ポークのバーベキューソテー       1\n",
       "筑前煮                 1\n",
       "牛肉ニンニクの芽炒め          1\n",
       "カレイ唐揚げ夏野菜あん         1\n",
       "カレイ唐揚げ野菜あんかけ        1\n",
       "ゴーヤチャンプルー           1\n",
       "きのこデミソースハンバーグ       1\n",
       "サーモンフライ・自家製タルタル     1\n",
       "鶏の照り焼きマヨ            1\n",
       "白身魚のマスタード焼き         1\n",
       "たら竜田揚げ              1\n",
       "鶏肉のカレー唐揚            1\n",
       "炊き込みご飯!肉豆腐          1\n",
       "豚肉と茄子のピリ辛炒め         1\n",
       "エビフライ・エビカツ          1\n",
       "自家製手作りとんかつ          1\n",
       "チキンのコーンクリーム煮        1\n",
       "ぶりレモンペッパー焼き         1\n",
       "豚肉のキノコソース           1\n",
       "ポークソテー韓国ソース         1\n",
       "鶏のカッシュナッツ炒め         1\n",
       "洋食屋さんのメンチカツ         1\n",
       "豚の冷しゃぶ              1\n",
       "煮込みハンバーグ            1\n",
       "チキンカツ・マスタード         1\n",
       "鶏の天ぷら               1\n",
       "炊き込みご飯・メンチカツ        1\n",
       "鯖塩焼き                1\n",
       "炊き込みご飯・コロッケ         1\n",
       "牛丼                  1\n",
       "厚揚げ肉みそ炒め            1\n",
       "鶏肉とカシューナッツ炒め        1\n",
       "魚のマスタード焼            1\n",
       "ハンバーグ・ミートソース        1\n",
       "手作りひれかつ             1\n",
       "アジ唐揚げ南蛮ソース          1\n",
       "麻婆春雨                1\n",
       "牛カルビ焼き肉             1\n",
       "鶏肉の照焼               1\n",
       "豚カツ                 1\n",
       "いか天ぷら               1\n",
       "ジャンボトンカツ            1\n",
       "エビカツ                1\n",
       "回鍋肉                 1\n",
       "チキンフリカッセ            1\n",
       "Name: name, dtype: int64"
      ]
     },
     "execution_count": 187,
     "metadata": {},
     "output_type": "execute_result"
    }
   ],
   "source": [
    "train['name'].value_counts()"
   ]
  },
  {
   "cell_type": "code",
   "execution_count": 188,
   "id": "162a3ac2",
   "metadata": {},
   "outputs": [],
   "source": [
    "train2 = train"
   ]
  },
  {
   "cell_type": "code",
   "execution_count": 189,
   "id": "582a243b",
   "metadata": {},
   "outputs": [
    {
     "name": "stderr",
     "output_type": "stream",
     "text": [
      "<ipython-input-189-fa6ce582e127>:3: SettingWithCopyWarning: \n",
      "A value is trying to be set on a copy of a slice from a DataFrame\n",
      "\n",
      "See the caveats in the documentation: https://pandas.pydata.org/pandas-docs/stable/user_guide/indexing.html#returning-a-view-versus-a-copy\n",
      "  train2['name'][i] = \"deepfried\"\n",
      "<ipython-input-189-fa6ce582e127>:7: SettingWithCopyWarning: \n",
      "A value is trying to be set on a copy of a slice from a DataFrame\n",
      "\n",
      "See the caveats in the documentation: https://pandas.pydata.org/pandas-docs/stable/user_guide/indexing.html#returning-a-view-versus-a-copy\n",
      "  train2['name'][i] = \"curry\"\n",
      "<ipython-input-189-fa6ce582e127>:5: SettingWithCopyWarning: \n",
      "A value is trying to be set on a copy of a slice from a DataFrame\n",
      "\n",
      "See the caveats in the documentation: https://pandas.pydata.org/pandas-docs/stable/user_guide/indexing.html#returning-a-view-versus-a-copy\n",
      "  train2['name'][i] = \"fish\"\n"
     ]
    }
   ],
   "source": [
    "for i in range(0, 337):\n",
    "    if \"カツ\" in train2['name'][i]:\n",
    "        train2['name'][i] = \"deepfried\"\n",
    "    elif \"魚\" in train2['name'][i]:\n",
    "          train2['name'][i] = \"fish\"\n",
    "    elif \"カレー\" in train2['name'][i]:\n",
    "          train2['name'][i] = \"curry\""
   ]
  },
  {
   "cell_type": "code",
   "execution_count": 190,
   "id": "174cf94e",
   "metadata": {},
   "outputs": [
    {
     "name": "stderr",
     "output_type": "stream",
     "text": [
      "<ipython-input-190-80a223268f06>:7: SettingWithCopyWarning: \n",
      "A value is trying to be set on a copy of a slice from a DataFrame\n",
      "\n",
      "See the caveats in the documentation: https://pandas.pydata.org/pandas-docs/stable/user_guide/indexing.html#returning-a-view-versus-a-copy\n",
      "  train2['name'][i] = \"hamburg\"\n",
      "<ipython-input-190-80a223268f06>:5: SettingWithCopyWarning: \n",
      "A value is trying to be set on a copy of a slice from a DataFrame\n",
      "\n",
      "See the caveats in the documentation: https://pandas.pydata.org/pandas-docs/stable/user_guide/indexing.html#returning-a-view-versus-a-copy\n",
      "  train2['name'][i] = \"fish\"\n",
      "<ipython-input-190-80a223268f06>:3: SettingWithCopyWarning: \n",
      "A value is trying to be set on a copy of a slice from a DataFrame\n",
      "\n",
      "See the caveats in the documentation: https://pandas.pydata.org/pandas-docs/stable/user_guide/indexing.html#returning-a-view-versus-a-copy\n",
      "  train2['name'][i] = \"deepfried\"\n"
     ]
    }
   ],
   "source": [
    "for i in range(0, 337):\n",
    "    if \"フライ\" in train2['name'][i]:\n",
    "        train2['name'][i] = \"deepfried\"\n",
    "    elif \"サーモン\" in train2['name'][i]:\n",
    "          train2['name'][i] = \"fish\"\n",
    "    elif \"ハンバーグ\" in train2['name'][i]:\n",
    "          train2['name'][i] = \"hamburg\""
   ]
  },
  {
   "cell_type": "code",
   "execution_count": 191,
   "id": "e5ade15c",
   "metadata": {},
   "outputs": [
    {
     "name": "stderr",
     "output_type": "stream",
     "text": [
      "<ipython-input-191-0fff8ede5cd6>:7: SettingWithCopyWarning: \n",
      "A value is trying to be set on a copy of a slice from a DataFrame\n",
      "\n",
      "See the caveats in the documentation: https://pandas.pydata.org/pandas-docs/stable/user_guide/indexing.html#returning-a-view-versus-a-copy\n",
      "  train2['name'][i] = \"deepfried\"\n",
      "<ipython-input-191-0fff8ede5cd6>:5: SettingWithCopyWarning: \n",
      "A value is trying to be set on a copy of a slice from a DataFrame\n",
      "\n",
      "See the caveats in the documentation: https://pandas.pydata.org/pandas-docs/stable/user_guide/indexing.html#returning-a-view-versus-a-copy\n",
      "  train2['name'][i] = \"fish\"\n",
      "<ipython-input-191-0fff8ede5cd6>:3: SettingWithCopyWarning: \n",
      "A value is trying to be set on a copy of a slice from a DataFrame\n",
      "\n",
      "See the caveats in the documentation: https://pandas.pydata.org/pandas-docs/stable/user_guide/indexing.html#returning-a-view-versus-a-copy\n",
      "  train2['name'][i] = \"deepfried\"\n"
     ]
    }
   ],
   "source": [
    "for i in range(0, 337):\n",
    "    if \"コロッケ\" in train2['name'][i]:\n",
    "        train2['name'][i] = \"deepfried\"\n",
    "    elif \"カレイ\" in train2['name'][i]:\n",
    "          train2['name'][i] = \"fish\"\n",
    "    elif \"揚げ\" in train2['name'][i]:\n",
    "          train2['name'][i] = \"deepfried\""
   ]
  },
  {
   "cell_type": "code",
   "execution_count": 192,
   "id": "24794998",
   "metadata": {},
   "outputs": [
    {
     "name": "stderr",
     "output_type": "stream",
     "text": [
      "<ipython-input-192-ec0e9ed2b362>:7: SettingWithCopyWarning: \n",
      "A value is trying to be set on a copy of a slice from a DataFrame\n",
      "\n",
      "See the caveats in the documentation: https://pandas.pydata.org/pandas-docs/stable/user_guide/indexing.html#returning-a-view-versus-a-copy\n",
      "  train2['name'][i] = \"boiled\"\n",
      "<ipython-input-192-ec0e9ed2b362>:3: SettingWithCopyWarning: \n",
      "A value is trying to be set on a copy of a slice from a DataFrame\n",
      "\n",
      "See the caveats in the documentation: https://pandas.pydata.org/pandas-docs/stable/user_guide/indexing.html#returning-a-view-versus-a-copy\n",
      "  train2['name'][i] = \"deepfried\"\n",
      "<ipython-input-192-ec0e9ed2b362>:5: SettingWithCopyWarning: \n",
      "A value is trying to be set on a copy of a slice from a DataFrame\n",
      "\n",
      "See the caveats in the documentation: https://pandas.pydata.org/pandas-docs/stable/user_guide/indexing.html#returning-a-view-versus-a-copy\n",
      "  train2['name'][i] = \"fish\"\n"
     ]
    }
   ],
   "source": [
    "for i in range(0, 337):\n",
    "    if \"かつ\" in train2['name'][i]:\n",
    "        train2['name'][i] = \"deepfried\"\n",
    "    elif \"キス\" in train2['name'][i]:\n",
    "          train2['name'][i] = \"fish\"\n",
    "    elif \"煮\" in train2['name'][i]:\n",
    "          train2['name'][i] = \"boiled\""
   ]
  },
  {
   "cell_type": "code",
   "execution_count": 193,
   "id": "9544e43f",
   "metadata": {},
   "outputs": [
    {
     "name": "stderr",
     "output_type": "stream",
     "text": [
      "<ipython-input-193-35ab8796fffc>:3: SettingWithCopyWarning: \n",
      "A value is trying to be set on a copy of a slice from a DataFrame\n",
      "\n",
      "See the caveats in the documentation: https://pandas.pydata.org/pandas-docs/stable/user_guide/indexing.html#returning-a-view-versus-a-copy\n",
      "  train2['name'][i] = \"fried\"\n",
      "<ipython-input-193-35ab8796fffc>:7: SettingWithCopyWarning: \n",
      "A value is trying to be set on a copy of a slice from a DataFrame\n",
      "\n",
      "See the caveats in the documentation: https://pandas.pydata.org/pandas-docs/stable/user_guide/indexing.html#returning-a-view-versus-a-copy\n",
      "  train2['name'][i] = \"deepfried\"\n",
      "<ipython-input-193-35ab8796fffc>:5: SettingWithCopyWarning: \n",
      "A value is trying to be set on a copy of a slice from a DataFrame\n",
      "\n",
      "See the caveats in the documentation: https://pandas.pydata.org/pandas-docs/stable/user_guide/indexing.html#returning-a-view-versus-a-copy\n",
      "  train2['name'][i] = \"fish\"\n"
     ]
    }
   ],
   "source": [
    "for i in range(0, 337):\n",
    "    if \"炒め\" in train2['name'][i]:\n",
    "        train2['name'][i] = \"fried\"\n",
    "    elif \"ぶり\" in train2['name'][i]:\n",
    "          train2['name'][i] = \"fish\"\n",
    "    elif \"天ぷら\" in train2['name'][i]:\n",
    "          train2['name'][i] = \"deepfried\""
   ]
  },
  {
   "cell_type": "code",
   "execution_count": 194,
   "id": "46d0b720",
   "metadata": {},
   "outputs": [
    {
     "name": "stderr",
     "output_type": "stream",
     "text": [
      "<ipython-input-194-7c754ca4c6b2>:3: SettingWithCopyWarning: \n",
      "A value is trying to be set on a copy of a slice from a DataFrame\n",
      "\n",
      "See the caveats in the documentation: https://pandas.pydata.org/pandas-docs/stable/user_guide/indexing.html#returning-a-view-versus-a-copy\n",
      "  train2['name'][i] = \"fried\"\n",
      "<ipython-input-194-7c754ca4c6b2>:9: SettingWithCopyWarning: \n",
      "A value is trying to be set on a copy of a slice from a DataFrame\n",
      "\n",
      "See the caveats in the documentation: https://pandas.pydata.org/pandas-docs/stable/user_guide/indexing.html#returning-a-view-versus-a-copy\n",
      "  train2['name'][i] = \"rice\"\n",
      "<ipython-input-194-7c754ca4c6b2>:7: SettingWithCopyWarning: \n",
      "A value is trying to be set on a copy of a slice from a DataFrame\n",
      "\n",
      "See the caveats in the documentation: https://pandas.pydata.org/pandas-docs/stable/user_guide/indexing.html#returning-a-view-versus-a-copy\n",
      "  train2['name'][i] = \"rice\"\n",
      "<ipython-input-194-7c754ca4c6b2>:5: SettingWithCopyWarning: \n",
      "A value is trying to be set on a copy of a slice from a DataFrame\n",
      "\n",
      "See the caveats in the documentation: https://pandas.pydata.org/pandas-docs/stable/user_guide/indexing.html#returning-a-view-versus-a-copy\n",
      "  train2['name'][i] = \"noodles\"\n"
     ]
    }
   ],
   "source": [
    "for i in range(0, 337):\n",
    "    if \"焼き\" in train2['name'][i]:\n",
    "        train2['name'][i] = \"fried\"\n",
    "    elif \"麺\" in train2['name'][i]:\n",
    "          train2['name'][i] = \"noodles\"\n",
    "    elif \"飯\" in train2['name'][i]:\n",
    "          train2['name'][i] = \"rice\"\n",
    "    elif \"丼\" in train2['name'][i]:\n",
    "          train2['name'][i] = \"rice\""
   ]
  },
  {
   "cell_type": "code",
   "execution_count": 195,
   "id": "c46cb9ee",
   "metadata": {},
   "outputs": [
    {
     "name": "stderr",
     "output_type": "stream",
     "text": [
      "<ipython-input-195-40fdebb7e195>:3: SettingWithCopyWarning: \n",
      "A value is trying to be set on a copy of a slice from a DataFrame\n",
      "\n",
      "See the caveats in the documentation: https://pandas.pydata.org/pandas-docs/stable/user_guide/indexing.html#returning-a-view-versus-a-copy\n",
      "  train2['name'][i] = \"fried\"\n",
      "<ipython-input-195-40fdebb7e195>:5: SettingWithCopyWarning: \n",
      "A value is trying to be set on a copy of a slice from a DataFrame\n",
      "\n",
      "See the caveats in the documentation: https://pandas.pydata.org/pandas-docs/stable/user_guide/indexing.html#returning-a-view-versus-a-copy\n",
      "  train2['name'][i] = \"fried\"\n",
      "<ipython-input-195-40fdebb7e195>:9: SettingWithCopyWarning: \n",
      "A value is trying to be set on a copy of a slice from a DataFrame\n",
      "\n",
      "See the caveats in the documentation: https://pandas.pydata.org/pandas-docs/stable/user_guide/indexing.html#returning-a-view-versus-a-copy\n",
      "  train2['name'][i] = \"deepfried\"\n"
     ]
    }
   ],
   "source": [
    "for i in range(0, 337):\n",
    "    if \"タンドリーチキン\" in train2['name'][i]:\n",
    "        train2['name'][i] = \"fried\"\n",
    "    elif \"ソテー\" in train2['name'][i]:\n",
    "          train2['name'][i] = \"fried\"\n",
    "    elif \"うどん\" in train2['name'][i]:\n",
    "          train2['name'][i] = \"noodles\"\n",
    "    elif \"油\" in train2['name'][i]:\n",
    "          train2['name'][i] = \"deepfried\""
   ]
  },
  {
   "cell_type": "code",
   "execution_count": 196,
   "id": "9ff28f9f",
   "metadata": {},
   "outputs": [
    {
     "name": "stderr",
     "output_type": "stream",
     "text": [
      "<ipython-input-196-d8486688f2dd>:5: SettingWithCopyWarning: \n",
      "A value is trying to be set on a copy of a slice from a DataFrame\n",
      "\n",
      "See the caveats in the documentation: https://pandas.pydata.org/pandas-docs/stable/user_guide/indexing.html#returning-a-view-versus-a-copy\n",
      "  train2['name'][i] = \"soup\"\n",
      "<ipython-input-196-d8486688f2dd>:7: SettingWithCopyWarning: \n",
      "A value is trying to be set on a copy of a slice from a DataFrame\n",
      "\n",
      "See the caveats in the documentation: https://pandas.pydata.org/pandas-docs/stable/user_guide/indexing.html#returning-a-view-versus-a-copy\n",
      "  train2['name'][i] = \"fried\"\n",
      "<ipython-input-196-d8486688f2dd>:3: SettingWithCopyWarning: \n",
      "A value is trying to be set on a copy of a slice from a DataFrame\n",
      "\n",
      "See the caveats in the documentation: https://pandas.pydata.org/pandas-docs/stable/user_guide/indexing.html#returning-a-view-versus-a-copy\n",
      "  train2['name'][i] = \"fried\"\n"
     ]
    }
   ],
   "source": [
    "for i in range(0, 337):\n",
    "    if \"ステーキ\" in train2['name'][i]:\n",
    "        train2['name'][i] = \"fried\"\n",
    "    elif \"シチュー\" in train2['name'][i]:\n",
    "          train2['name'][i] = \"soup\"\n",
    "    elif \"チキン\" in train2['name'][i]:\n",
    "          train2['name'][i] = \"fried\""
   ]
  },
  {
   "cell_type": "code",
   "execution_count": 197,
   "id": "b8c1d2d2",
   "metadata": {},
   "outputs": [
    {
     "name": "stderr",
     "output_type": "stream",
     "text": [
      "<ipython-input-197-9249dc16628f>:3: SettingWithCopyWarning: \n",
      "A value is trying to be set on a copy of a slice from a DataFrame\n",
      "\n",
      "See the caveats in the documentation: https://pandas.pydata.org/pandas-docs/stable/user_guide/indexing.html#returning-a-view-versus-a-copy\n",
      "  train2['name'][i] = \"deepfried\"\n",
      "<ipython-input-197-9249dc16628f>:7: SettingWithCopyWarning: \n",
      "A value is trying to be set on a copy of a slice from a DataFrame\n",
      "\n",
      "See the caveats in the documentation: https://pandas.pydata.org/pandas-docs/stable/user_guide/indexing.html#returning-a-view-versus-a-copy\n",
      "  train2['name'][i] = \"fried\"\n",
      "<ipython-input-197-9249dc16628f>:5: SettingWithCopyWarning: \n",
      "A value is trying to be set on a copy of a slice from a DataFrame\n",
      "\n",
      "See the caveats in the documentation: https://pandas.pydata.org/pandas-docs/stable/user_guide/indexing.html#returning-a-view-versus-a-copy\n",
      "  train2['name'][i] = \"fried\"\n"
     ]
    }
   ],
   "source": [
    "for i in range(0, 337):\n",
    "    if \"酢豚\" in train2['name'][i]:\n",
    "        train2['name'][i] = \"deepfried\"\n",
    "    elif \"鶏\" in train2['name'][i]:\n",
    "          train2['name'][i] = \"fried\"\n",
    "    elif \"豚\" in train2['name'][i]:\n",
    "          train2['name'][i] = \"fried\""
   ]
  },
  {
   "cell_type": "code",
   "execution_count": 198,
   "id": "ec88911e",
   "metadata": {},
   "outputs": [
    {
     "name": "stderr",
     "output_type": "stream",
     "text": [
      "<ipython-input-198-d829adcb728d>:5: SettingWithCopyWarning: \n",
      "A value is trying to be set on a copy of a slice from a DataFrame\n",
      "\n",
      "See the caveats in the documentation: https://pandas.pydata.org/pandas-docs/stable/user_guide/indexing.html#returning-a-view-versus-a-copy\n",
      "  train2['name'][i] = \"fried\"\n",
      "<ipython-input-198-d829adcb728d>:7: SettingWithCopyWarning: \n",
      "A value is trying to be set on a copy of a slice from a DataFrame\n",
      "\n",
      "See the caveats in the documentation: https://pandas.pydata.org/pandas-docs/stable/user_guide/indexing.html#returning-a-view-versus-a-copy\n",
      "  train2['name'][i] = \"fried\"\n",
      "<ipython-input-198-d829adcb728d>:3: SettingWithCopyWarning: \n",
      "A value is trying to be set on a copy of a slice from a DataFrame\n",
      "\n",
      "See the caveats in the documentation: https://pandas.pydata.org/pandas-docs/stable/user_guide/indexing.html#returning-a-view-versus-a-copy\n",
      "  train2['name'][i] = \"fried\"\n"
     ]
    }
   ],
   "source": [
    "for i in range(0, 337):\n",
    "    if \"麻婆\" in train2['name'][i]:\n",
    "        train2['name'][i] = \"fried\"\n",
    "    elif \"マーボ\" in train2['name'][i]:\n",
    "          train2['name'][i] = \"fried\"\n",
    "    elif \"ロース\" in train2['name'][i]:\n",
    "          train2['name'][i] = \"fried\""
   ]
  },
  {
   "cell_type": "code",
   "execution_count": 201,
   "id": "0997eacc",
   "metadata": {},
   "outputs": [],
   "source": [
    "train2[\"name\"] = train2[\"name\"].replace(\"ビーフストロガノフ\", \"boiled\")\n",
    "train2[\"name\"] = train2[\"name\"].replace(\"肉じゃが\", \"boiled\")\n",
    "train2[\"name\"] = train2[\"name\"].replace(\"八宝菜\", \"fried\")\n",
    "train2[\"name\"] = train2[\"name\"].replace(\"かに玉・甘酢たれ\", \"fried\")\n",
    "train2[\"name\"] = train2[\"name\"].replace(\"回鍋肉\", \"fried\")\n",
    "train2[\"name\"] = train2[\"name\"].replace(\"プルコギ\", \"fried\")\n",
    "train2[\"name\"] = train2[\"name\"].replace(\"ゴーヤチャンプル\", \"fried\")\n",
    "train2[\"name\"] = train2[\"name\"].replace(\"ミックスグリル\", \"fried\")\n",
    "train2[\"name\"] = train2[\"name\"].replace(\"牛スキヤキ\", \"fried\")\n",
    "train2[\"name\"] = train2[\"name\"].replace(\"ランチビュッフェ\", \"fried\")\n",
    "train2[\"name\"] = train2[\"name\"].replace(\"青椒肉絲\", \"fried\")\n",
    "train2[\"name\"] = train2[\"name\"].replace(\"チャプチェ\", \"fried\")\n",
    "train2[\"name\"] = train2[\"name\"].replace(\"hamburg\", \"fried\")\n",
    "train2[\"name\"] = train2[\"name\"].replace(\"ゴーヤチャンプルー\", \"fried\")"
   ]
  },
  {
   "cell_type": "code",
   "execution_count": 202,
   "id": "c1a58243",
   "metadata": {},
   "outputs": [
    {
     "data": {
      "text/plain": [
       "fried        143\n",
       "deepfried     95\n",
       "fish          28\n",
       "curry         27\n",
       "boiled        26\n",
       "rice          11\n",
       "soup           6\n",
       "noodles        1\n",
       "Name: name, dtype: int64"
      ]
     },
     "execution_count": 202,
     "metadata": {},
     "output_type": "execute_result"
    }
   ],
   "source": [
    "train2['name'].value_counts()"
   ]
  },
  {
   "cell_type": "code",
   "execution_count": 203,
   "id": "6523b878",
   "metadata": {},
   "outputs": [
    {
     "data": {
      "text/plain": [
       "<matplotlib.collections.PathCollection at 0x1f0e596ff40>"
      ]
     },
     "execution_count": 203,
     "metadata": {},
     "output_type": "execute_result"
    },
    {
     "data": {
      "image/png": "[encoded data removed]",
      "text/plain": [
       "<Figure size 432x288 with 1 Axes>"
      ]
     },
     "metadata": {
      "needs_background": "light"
     },
     "output_type": "display_data"
    }
   ],
   "source": [
    "pyplot.scatter(train2[\"name\"], train2[\"y\"])"
   ]
  },
  {
   "cell_type": "markdown",
   "id": "439c7df1",
   "metadata": {},
   "source": [
    "3. 日付データを「日」に直す"
   ]
  },
  {
   "cell_type": "code",
   "execution_count": 206,
   "id": "0ee44195",
   "metadata": {},
   "outputs": [],
   "source": [
    "import datetime"
   ]
  },
  {
   "cell_type": "code",
   "execution_count": 207,
   "id": "ab7fcb15",
   "metadata": {},
   "outputs": [],
   "source": [
    "train2['dateid'] = pd.to_datetime(train2['dateid'])"
   ]
  },
  {
   "cell_type": "code",
   "execution_count": 208,
   "id": "9f7d26fe",
   "metadata": {},
   "outputs": [],
   "source": [
    "test['dateid'] = pd.to_datetime(test['dateid'])"
   ]
  },
  {
   "cell_type": "code",
   "execution_count": 209,
   "id": "2ad4ff98",
   "metadata": {},
   "outputs": [],
   "source": [
    "train2['dateid']=train2['dateid'].dt.day"
   ]
  },
  {
   "cell_type": "code",
   "execution_count": 210,
   "id": "a0af3d7a",
   "metadata": {},
   "outputs": [],
   "source": [
    "test['dateid']=test['dateid'].dt.day"
   ]
  },
  {
   "cell_type": "markdown",
   "id": "958e9209",
   "metadata": {},
   "source": [
    "4. 天気データを分類"
   ]
  },
  {
   "cell_type": "code",
   "execution_count": 212,
   "id": "251672c5",
   "metadata": {},
   "outputs": [
    {
     "name": "stderr",
     "output_type": "stream",
     "text": [
      "<ipython-input-212-f89ecb91baf5>:5: SettingWithCopyWarning: \n",
      "A value is trying to be set on a copy of a slice from a DataFrame\n",
      "\n",
      "See the caveats in the documentation: https://pandas.pydata.org/pandas-docs/stable/user_guide/indexing.html#returning-a-view-versus-a-copy\n",
      "  train2['weather'][i] = \"sunny\"\n",
      "<ipython-input-212-f89ecb91baf5>:3: SettingWithCopyWarning: \n",
      "A value is trying to be set on a copy of a slice from a DataFrame\n",
      "\n",
      "See the caveats in the documentation: https://pandas.pydata.org/pandas-docs/stable/user_guide/indexing.html#returning-a-view-versus-a-copy\n",
      "  train2['weather'][i] = \"rainy\"\n"
     ]
    }
   ],
   "source": [
    "for i in range(0, 337):\n",
    "    if \"雨\" in train2['weather'][i]:\n",
    "        train2['weather'][i] = \"rainy\"\n",
    "    else:\n",
    "        train2['weather'][i] = \"sunny\""
   ]
  },
  {
   "cell_type": "code",
   "execution_count": 213,
   "id": "39ae0eff",
   "metadata": {},
   "outputs": [
    {
     "name": "stderr",
     "output_type": "stream",
     "text": [
      "<ipython-input-213-d67200e0512e>:3: SettingWithCopyWarning: \n",
      "A value is trying to be set on a copy of a slice from a DataFrame\n",
      "\n",
      "See the caveats in the documentation: https://pandas.pydata.org/pandas-docs/stable/user_guide/indexing.html#returning-a-view-versus-a-copy\n",
      "  test['weather'][i] = \"rainy\"\n",
      "<ipython-input-213-d67200e0512e>:5: SettingWithCopyWarning: \n",
      "A value is trying to be set on a copy of a slice from a DataFrame\n",
      "\n",
      "See the caveats in the documentation: https://pandas.pydata.org/pandas-docs/stable/user_guide/indexing.html#returning-a-view-versus-a-copy\n",
      "  test['weather'][i] = \"sunny\"\n"
     ]
    }
   ],
   "source": [
    "for i in range(0, 144):\n",
    "    if \"雨\" in test['weather'][i]:\n",
    "        test['weather'][i] = \"rainy\"\n",
    "    else:\n",
    "        test['weather'][i] = \"sunny\""
   ]
  },
  {
   "cell_type": "code",
   "execution_count": 217,
   "id": "1a05a7c7",
   "metadata": {},
   "outputs": [],
   "source": [
    "train2 = pd.DataFrame(train2)"
   ]
  },
  {
   "cell_type": "code",
   "execution_count": 218,
   "id": "04d807b1",
   "metadata": {},
   "outputs": [],
   "source": [
    "test = pd.DataFrame(test)"
   ]
  },
  {
   "cell_type": "markdown",
   "id": "685b33fd",
   "metadata": {},
   "source": [
    "Xにテストデータを格納して整理"
   ]
  },
  {
   "cell_type": "code",
   "execution_count": 219,
   "id": "c16a201b",
   "metadata": {},
   "outputs": [],
   "source": [
    "X = train2[['week','soldout', 'kcal','precipitation', 'temperature','payday','weather','remarks','name']]"
   ]
  },
  {
   "cell_type": "code",
   "execution_count": 220,
   "id": "97e5be10",
   "metadata": {},
   "outputs": [],
   "source": [
    "X = pd.get_dummies(X)"
   ]
  },
  {
   "cell_type": "code",
   "execution_count": 222,
   "id": "bbd935f8",
   "metadata": {},
   "outputs": [],
   "source": [
    "X = X.drop(X.columns[9], axis=1)"
   ]
  },
  {
   "cell_type": "code",
   "execution_count": 223,
   "id": "8cbbf3fc",
   "metadata": {},
   "outputs": [],
   "source": [
    "X = X.drop(X.columns[11], axis=1)"
   ]
  },
  {
   "cell_type": "code",
   "execution_count": 224,
   "id": "71a2c242",
   "metadata": {},
   "outputs": [],
   "source": [
    "X = X.drop(X.columns[11], axis=1)"
   ]
  },
  {
   "cell_type": "code",
   "execution_count": 225,
   "id": "f91c2fb2",
   "metadata": {},
   "outputs": [],
   "source": [
    "X = X.rename(columns={'payday_1': 'payday'})\n",
    "X = X.rename(columns={'remarks_1': 'remarks'})\n",
    "X = X.rename(columns={'weather_rainy': 'rainy'})"
   ]
  },
  {
   "cell_type": "markdown",
   "id": "fac8b1a7",
   "metadata": {},
   "source": [
    "テストデータに同様の加工を施す"
   ]
  },
  {
   "cell_type": "code",
   "execution_count": 227,
   "id": "8b237bc7",
   "metadata": {},
   "outputs": [],
   "source": [
    "test['remarks'] = test['remarks'].fillna(\"none\")"
   ]
  },
  {
   "cell_type": "code",
   "execution_count": 228,
   "id": "e543c7ee",
   "metadata": {},
   "outputs": [
    {
     "name": "stderr",
     "output_type": "stream",
     "text": [
      "<ipython-input-228-0f59717289d3>:3: SettingWithCopyWarning: \n",
      "A value is trying to be set on a copy of a slice from a DataFrame\n",
      "\n",
      "See the caveats in the documentation: https://pandas.pydata.org/pandas-docs/stable/user_guide/indexing.html#returning-a-view-versus-a-copy\n",
      "  test[\"remarks\"][i] = 0\n",
      "<ipython-input-228-0f59717289d3>:5: SettingWithCopyWarning: \n",
      "A value is trying to be set on a copy of a slice from a DataFrame\n",
      "\n",
      "See the caveats in the documentation: https://pandas.pydata.org/pandas-docs/stable/user_guide/indexing.html#returning-a-view-versus-a-copy\n",
      "  test[\"remarks\"][i] = 1\n"
     ]
    }
   ],
   "source": [
    "for i in range(0, 144):\n",
    "    if test[\"remarks\"][i] == \"none\":\n",
    "        test[\"remarks\"][i] = 0\n",
    "    else:\n",
    "        test[\"remarks\"][i] = 1"
   ]
  },
  {
   "cell_type": "code",
   "execution_count": 229,
   "id": "bc5dadd1",
   "metadata": {},
   "outputs": [],
   "source": [
    "test['event'] = test['event'].fillna(\"none\")"
   ]
  },
  {
   "cell_type": "code",
   "execution_count": 230,
   "id": "b806cc9a",
   "metadata": {},
   "outputs": [
    {
     "name": "stderr",
     "output_type": "stream",
     "text": [
      "<ipython-input-230-06373b5878db>:3: SettingWithCopyWarning: \n",
      "A value is trying to be set on a copy of a slice from a DataFrame\n",
      "\n",
      "See the caveats in the documentation: https://pandas.pydata.org/pandas-docs/stable/user_guide/indexing.html#returning-a-view-versus-a-copy\n",
      "  test[\"event\"][i] = 0\n",
      "<ipython-input-230-06373b5878db>:5: SettingWithCopyWarning: \n",
      "A value is trying to be set on a copy of a slice from a DataFrame\n",
      "\n",
      "See the caveats in the documentation: https://pandas.pydata.org/pandas-docs/stable/user_guide/indexing.html#returning-a-view-versus-a-copy\n",
      "  test[\"event\"][i] = 1\n"
     ]
    }
   ],
   "source": [
    "for i in range(0, 144):\n",
    "    if test[\"event\"][i] == \"none\":\n",
    "        test[\"event\"][i] = 0\n",
    "    else:\n",
    "        test[\"event\"][i] = 1"
   ]
  },
  {
   "cell_type": "code",
   "execution_count": 231,
   "id": "672bede3",
   "metadata": {},
   "outputs": [],
   "source": [
    "test['payday'] = test['payday'].fillna('none')"
   ]
  },
  {
   "cell_type": "code",
   "execution_count": 232,
   "id": "edd38389",
   "metadata": {},
   "outputs": [
    {
     "name": "stderr",
     "output_type": "stream",
     "text": [
      "<ipython-input-232-4bfacd516996>:3: SettingWithCopyWarning: \n",
      "A value is trying to be set on a copy of a slice from a DataFrame\n",
      "\n",
      "See the caveats in the documentation: https://pandas.pydata.org/pandas-docs/stable/user_guide/indexing.html#returning-a-view-versus-a-copy\n",
      "  test['payday'][i] = 0\n",
      "<ipython-input-232-4bfacd516996>:5: SettingWithCopyWarning: \n",
      "A value is trying to be set on a copy of a slice from a DataFrame\n",
      "\n",
      "See the caveats in the documentation: https://pandas.pydata.org/pandas-docs/stable/user_guide/indexing.html#returning-a-view-versus-a-copy\n",
      "  test['payday'][i] = 1\n"
     ]
    }
   ],
   "source": [
    "for i in range(0, 144):\n",
    "    if test['payday'][i] == \"none\":\n",
    "        test['payday'][i] = 0\n",
    "    else:\n",
    "        test['payday'][i] = 1"
   ]
  },
  {
   "cell_type": "code",
   "execution_count": 233,
   "id": "9338463f",
   "metadata": {},
   "outputs": [],
   "source": [
    "test2 = test"
   ]
  },
  {
   "cell_type": "code",
   "execution_count": 234,
   "id": "cb7d2aa1",
   "metadata": {},
   "outputs": [
    {
     "name": "stderr",
     "output_type": "stream",
     "text": [
      "<ipython-input-234-ffa7ee5f38a3>:7: SettingWithCopyWarning: \n",
      "A value is trying to be set on a copy of a slice from a DataFrame\n",
      "\n",
      "See the caveats in the documentation: https://pandas.pydata.org/pandas-docs/stable/user_guide/indexing.html#returning-a-view-versus-a-copy\n",
      "  test2['name'][i] = \"curry\"\n",
      "<ipython-input-234-ffa7ee5f38a3>:3: SettingWithCopyWarning: \n",
      "A value is trying to be set on a copy of a slice from a DataFrame\n",
      "\n",
      "See the caveats in the documentation: https://pandas.pydata.org/pandas-docs/stable/user_guide/indexing.html#returning-a-view-versus-a-copy\n",
      "  test2['name'][i] = \"deepfried\"\n",
      "<ipython-input-234-ffa7ee5f38a3>:5: SettingWithCopyWarning: \n",
      "A value is trying to be set on a copy of a slice from a DataFrame\n",
      "\n",
      "See the caveats in the documentation: https://pandas.pydata.org/pandas-docs/stable/user_guide/indexing.html#returning-a-view-versus-a-copy\n",
      "  test2['name'][i] = \"fish\"\n"
     ]
    }
   ],
   "source": [
    "for i in range(0, 143):\n",
    "    if \"カツ\" in test2['name'][i]:\n",
    "        test2['name'][i] = \"deepfried\"\n",
    "    elif \"魚\" in test2['name'][i]:\n",
    "          test2['name'][i] = \"fish\"\n",
    "    elif \"カレー\" in test2['name'][i]:\n",
    "          test2['name'][i] = \"curry\""
   ]
  },
  {
   "cell_type": "code",
   "execution_count": 235,
   "id": "d94854e9",
   "metadata": {},
   "outputs": [
    {
     "name": "stderr",
     "output_type": "stream",
     "text": [
      "<ipython-input-235-603dcc8458de>:3: SettingWithCopyWarning: \n",
      "A value is trying to be set on a copy of a slice from a DataFrame\n",
      "\n",
      "See the caveats in the documentation: https://pandas.pydata.org/pandas-docs/stable/user_guide/indexing.html#returning-a-view-versus-a-copy\n",
      "  test2['name'][i] = \"deepfried\"\n",
      "<ipython-input-235-603dcc8458de>:7: SettingWithCopyWarning: \n",
      "A value is trying to be set on a copy of a slice from a DataFrame\n",
      "\n",
      "See the caveats in the documentation: https://pandas.pydata.org/pandas-docs/stable/user_guide/indexing.html#returning-a-view-versus-a-copy\n",
      "  test2['name'][i] = \"hamburg\"\n"
     ]
    }
   ],
   "source": [
    "for i in range(0, 143):\n",
    "    if \"フライ\" in test2['name'][i]:\n",
    "        test2['name'][i] = \"deepfried\"\n",
    "    elif \"サーモン\" in test2['name'][i]:\n",
    "          test2['name'][i] = \"fish\"\n",
    "    elif \"ハンバーグ\" in test2['name'][i]:\n",
    "          test2['name'][i] = \"hamburg\""
   ]
  },
  {
   "cell_type": "code",
   "execution_count": 236,
   "id": "ca684915",
   "metadata": {},
   "outputs": [
    {
     "name": "stderr",
     "output_type": "stream",
     "text": [
      "<ipython-input-236-ea385e637013>:7: SettingWithCopyWarning: \n",
      "A value is trying to be set on a copy of a slice from a DataFrame\n",
      "\n",
      "See the caveats in the documentation: https://pandas.pydata.org/pandas-docs/stable/user_guide/indexing.html#returning-a-view-versus-a-copy\n",
      "  test2['name'][i] = \"deepfried\"\n",
      "<ipython-input-236-ea385e637013>:3: SettingWithCopyWarning: \n",
      "A value is trying to be set on a copy of a slice from a DataFrame\n",
      "\n",
      "See the caveats in the documentation: https://pandas.pydata.org/pandas-docs/stable/user_guide/indexing.html#returning-a-view-versus-a-copy\n",
      "  test2['name'][i] = \"deepfried\"\n"
     ]
    }
   ],
   "source": [
    "for i in range(0, 143):\n",
    "    if \"コロッケ\" in test2['name'][i]:\n",
    "        test2['name'][i] = \"deepfried\"\n",
    "    elif \"カレイ\" in test2['name'][i]:\n",
    "          test2['name'][i] = \"fish\"\n",
    "    elif \"揚げ\" in test2['name'][i]:\n",
    "          test2['name'][i] = \"deepfried\""
   ]
  },
  {
   "cell_type": "code",
   "execution_count": 237,
   "id": "918fcda3",
   "metadata": {},
   "outputs": [
    {
     "name": "stderr",
     "output_type": "stream",
     "text": [
      "<ipython-input-237-2c2b27cf56a0>:7: SettingWithCopyWarning: \n",
      "A value is trying to be set on a copy of a slice from a DataFrame\n",
      "\n",
      "See the caveats in the documentation: https://pandas.pydata.org/pandas-docs/stable/user_guide/indexing.html#returning-a-view-versus-a-copy\n",
      "  test2['name'][i] = \"boiled\"\n",
      "<ipython-input-237-2c2b27cf56a0>:3: SettingWithCopyWarning: \n",
      "A value is trying to be set on a copy of a slice from a DataFrame\n",
      "\n",
      "See the caveats in the documentation: https://pandas.pydata.org/pandas-docs/stable/user_guide/indexing.html#returning-a-view-versus-a-copy\n",
      "  test2['name'][i] = \"deepfried\"\n"
     ]
    }
   ],
   "source": [
    "for i in range(0, 143):\n",
    "    if \"かつ\" in test2['name'][i]:\n",
    "        test2['name'][i] = \"deepfried\"\n",
    "    elif \"キス\" in test2['name'][i]:\n",
    "          test2['name'][i] = \"fish\"\n",
    "    elif \"煮\" in test2['name'][i]:\n",
    "          test2['name'][i] = \"boiled\""
   ]
  },
  {
   "cell_type": "code",
   "execution_count": 238,
   "id": "31b8376a",
   "metadata": {},
   "outputs": [
    {
     "name": "stderr",
     "output_type": "stream",
     "text": [
      "<ipython-input-238-d804a8b7b320>:3: SettingWithCopyWarning: \n",
      "A value is trying to be set on a copy of a slice from a DataFrame\n",
      "\n",
      "See the caveats in the documentation: https://pandas.pydata.org/pandas-docs/stable/user_guide/indexing.html#returning-a-view-versus-a-copy\n",
      "  test2['name'][i] = \"fried\"\n",
      "<ipython-input-238-d804a8b7b320>:5: SettingWithCopyWarning: \n",
      "A value is trying to be set on a copy of a slice from a DataFrame\n",
      "\n",
      "See the caveats in the documentation: https://pandas.pydata.org/pandas-docs/stable/user_guide/indexing.html#returning-a-view-versus-a-copy\n",
      "  test2['name'][i] = \"fish\"\n",
      "<ipython-input-238-d804a8b7b320>:7: SettingWithCopyWarning: \n",
      "A value is trying to be set on a copy of a slice from a DataFrame\n",
      "\n",
      "See the caveats in the documentation: https://pandas.pydata.org/pandas-docs/stable/user_guide/indexing.html#returning-a-view-versus-a-copy\n",
      "  test2['name'][i] = \"deepfried\"\n"
     ]
    }
   ],
   "source": [
    "for i in range(0, 143):\n",
    "    if \"炒め\" in test2['name'][i]:\n",
    "        test2['name'][i] = \"fried\"\n",
    "    elif \"ぶり\" in test2['name'][i]:\n",
    "          test2['name'][i] = \"fish\"\n",
    "    elif \"天ぷら\" in test2['name'][i]:\n",
    "          test2['name'][i] = \"deepfried\""
   ]
  },
  {
   "cell_type": "code",
   "execution_count": 239,
   "id": "f1885a2f",
   "metadata": {},
   "outputs": [
    {
     "name": "stderr",
     "output_type": "stream",
     "text": [
      "<ipython-input-239-38e7a257aad7>:3: SettingWithCopyWarning: \n",
      "A value is trying to be set on a copy of a slice from a DataFrame\n",
      "\n",
      "See the caveats in the documentation: https://pandas.pydata.org/pandas-docs/stable/user_guide/indexing.html#returning-a-view-versus-a-copy\n",
      "  test2['name'][i] = \"fried\"\n",
      "<ipython-input-239-38e7a257aad7>:7: SettingWithCopyWarning: \n",
      "A value is trying to be set on a copy of a slice from a DataFrame\n",
      "\n",
      "See the caveats in the documentation: https://pandas.pydata.org/pandas-docs/stable/user_guide/indexing.html#returning-a-view-versus-a-copy\n",
      "  test2['name'][i] = \"rice\"\n",
      "<ipython-input-239-38e7a257aad7>:9: SettingWithCopyWarning: \n",
      "A value is trying to be set on a copy of a slice from a DataFrame\n",
      "\n",
      "See the caveats in the documentation: https://pandas.pydata.org/pandas-docs/stable/user_guide/indexing.html#returning-a-view-versus-a-copy\n",
      "  test2['name'][i] = \"rice\"\n"
     ]
    }
   ],
   "source": [
    "for i in range(0, 143):\n",
    "    if \"焼き\" in test2['name'][i]:\n",
    "        test2['name'][i] = \"fried\"\n",
    "    elif \"麺\" in test2['name'][i]:\n",
    "          test2['name'][i] = \"noodles\"\n",
    "    elif \"飯\" in test2['name'][i]:\n",
    "          test2['name'][i] = \"rice\"\n",
    "    elif \"丼\" in test2['name'][i]:\n",
    "          test2['name'][i] = \"rice\""
   ]
  },
  {
   "cell_type": "code",
   "execution_count": 240,
   "id": "bb0d90a1",
   "metadata": {},
   "outputs": [
    {
     "name": "stderr",
     "output_type": "stream",
     "text": [
      "<ipython-input-240-b5e9dff8a1ac>:9: SettingWithCopyWarning: \n",
      "A value is trying to be set on a copy of a slice from a DataFrame\n",
      "\n",
      "See the caveats in the documentation: https://pandas.pydata.org/pandas-docs/stable/user_guide/indexing.html#returning-a-view-versus-a-copy\n",
      "  test2['name'][i] = \"deepfried\"\n",
      "<ipython-input-240-b5e9dff8a1ac>:3: SettingWithCopyWarning: \n",
      "A value is trying to be set on a copy of a slice from a DataFrame\n",
      "\n",
      "See the caveats in the documentation: https://pandas.pydata.org/pandas-docs/stable/user_guide/indexing.html#returning-a-view-versus-a-copy\n",
      "  test2['name'][i] = \"fried\"\n",
      "<ipython-input-240-b5e9dff8a1ac>:5: SettingWithCopyWarning: \n",
      "A value is trying to be set on a copy of a slice from a DataFrame\n",
      "\n",
      "See the caveats in the documentation: https://pandas.pydata.org/pandas-docs/stable/user_guide/indexing.html#returning-a-view-versus-a-copy\n",
      "  test2['name'][i] = \"fried\"\n"
     ]
    }
   ],
   "source": [
    "for i in range(0, 143):\n",
    "    if \"タンドリーチキン\" in test2['name'][i]:\n",
    "        test2['name'][i] = \"fried\"\n",
    "    elif \"ソテー\" in test2['name'][i]:\n",
    "          test2['name'][i] = \"fried\"\n",
    "    elif \"うどん\" in test2['name'][i]:\n",
    "          test2['name'][i] = \"noodles\"\n",
    "    elif \"油\" in test2['name'][i]:\n",
    "          test2['name'][i] = \"deepfried\""
   ]
  },
  {
   "cell_type": "code",
   "execution_count": 241,
   "id": "0ef64e77",
   "metadata": {},
   "outputs": [
    {
     "name": "stderr",
     "output_type": "stream",
     "text": [
      "<ipython-input-241-af6ed05d2e4f>:3: SettingWithCopyWarning: \n",
      "A value is trying to be set on a copy of a slice from a DataFrame\n",
      "\n",
      "See the caveats in the documentation: https://pandas.pydata.org/pandas-docs/stable/user_guide/indexing.html#returning-a-view-versus-a-copy\n",
      "  test2['name'][i] = \"fried\"\n",
      "<ipython-input-241-af6ed05d2e4f>:7: SettingWithCopyWarning: \n",
      "A value is trying to be set on a copy of a slice from a DataFrame\n",
      "\n",
      "See the caveats in the documentation: https://pandas.pydata.org/pandas-docs/stable/user_guide/indexing.html#returning-a-view-versus-a-copy\n",
      "  test2['name'][i] = \"fried\"\n",
      "<ipython-input-241-af6ed05d2e4f>:5: SettingWithCopyWarning: \n",
      "A value is trying to be set on a copy of a slice from a DataFrame\n",
      "\n",
      "See the caveats in the documentation: https://pandas.pydata.org/pandas-docs/stable/user_guide/indexing.html#returning-a-view-versus-a-copy\n",
      "  test2['name'][i] = \"soup\"\n"
     ]
    }
   ],
   "source": [
    "for i in range(0, 143):\n",
    "    if \"ステーキ\" in test2['name'][i]:\n",
    "        test2['name'][i] = \"fried\"\n",
    "    elif \"シチュー\" in test2['name'][i]:\n",
    "          test2['name'][i] = \"soup\"\n",
    "    elif \"チキン\" in test2['name'][i]:\n",
    "          test2['name'][i] = \"fried\""
   ]
  },
  {
   "cell_type": "code",
   "execution_count": 242,
   "id": "9480a82e",
   "metadata": {},
   "outputs": [
    {
     "name": "stderr",
     "output_type": "stream",
     "text": [
      "<ipython-input-242-d8babfc551a0>:3: SettingWithCopyWarning: \n",
      "A value is trying to be set on a copy of a slice from a DataFrame\n",
      "\n",
      "See the caveats in the documentation: https://pandas.pydata.org/pandas-docs/stable/user_guide/indexing.html#returning-a-view-versus-a-copy\n",
      "  test2['name'][i] = \"deepfried\"\n",
      "<ipython-input-242-d8babfc551a0>:7: SettingWithCopyWarning: \n",
      "A value is trying to be set on a copy of a slice from a DataFrame\n",
      "\n",
      "See the caveats in the documentation: https://pandas.pydata.org/pandas-docs/stable/user_guide/indexing.html#returning-a-view-versus-a-copy\n",
      "  test2['name'][i] = \"fried\"\n"
     ]
    }
   ],
   "source": [
    "for i in range(0, 143):\n",
    "    if \"酢豚\" in test2['name'][i]:\n",
    "        test2['name'][i] = \"deepfried\"\n",
    "    elif \"鶏\" in train2['name'][i]:\n",
    "          test2['name'][i] = \"fried\"\n",
    "    elif \"豚\" in test2['name'][i]:\n",
    "          test2['name'][i] = \"fried\""
   ]
  },
  {
   "cell_type": "code",
   "execution_count": 243,
   "id": "7614dc2f",
   "metadata": {},
   "outputs": [
    {
     "name": "stderr",
     "output_type": "stream",
     "text": [
      "<ipython-input-243-1d63f6afe513>:3: SettingWithCopyWarning: \n",
      "A value is trying to be set on a copy of a slice from a DataFrame\n",
      "\n",
      "See the caveats in the documentation: https://pandas.pydata.org/pandas-docs/stable/user_guide/indexing.html#returning-a-view-versus-a-copy\n",
      "  test2['name'][i] = \"fried\"\n",
      "<ipython-input-243-1d63f6afe513>:7: SettingWithCopyWarning: \n",
      "A value is trying to be set on a copy of a slice from a DataFrame\n",
      "\n",
      "See the caveats in the documentation: https://pandas.pydata.org/pandas-docs/stable/user_guide/indexing.html#returning-a-view-versus-a-copy\n",
      "  test2['name'][i] = \"fried\"\n"
     ]
    }
   ],
   "source": [
    "for i in range(0, 143):\n",
    "    if \"麻婆\" in test2['name'][i]:\n",
    "        test2['name'][i] = \"fried\"\n",
    "    elif \"マーボ\" in test2['name'][i]:\n",
    "          test2['name'][i] = \"fried\"\n",
    "    elif \"ロース\" in test2['name'][i]:\n",
    "          test2['name'][i] = \"fried\""
   ]
  },
  {
   "cell_type": "code",
   "execution_count": 249,
   "id": "7703eb64",
   "metadata": {},
   "outputs": [],
   "source": [
    "test2[\"name\"] = test2[\"name\"].replace(\"ビーフストロガノフ\", \"boiled\")\n",
    "test2[\"name\"] = test2[\"name\"].replace(\"肉じゃが\", \"boiled\")\n",
    "test2[\"name\"] = test2[\"name\"].replace(\"八宝菜\", \"fried\")\n",
    "test2[\"name\"] = test2[\"name\"].replace(\"かに玉・甘酢たれ\", \"fried\")\n",
    "test2[\"name\"] = test2[\"name\"].replace(\"回鍋肉\", \"fried\")\n",
    "test2[\"name\"] = test2[\"name\"].replace(\"プルコギ\", \"fried\")\n",
    "test2[\"name\"] = test2[\"name\"].replace(\"ゴーヤチャンプル\", \"fried\")\n",
    "test2[\"name\"] = test2[\"name\"].replace(\"ミックスグリル\", \"fried\")\n",
    "test2[\"name\"] = test2[\"name\"].replace(\"牛スキヤキ\", \"fried\")\n",
    "test2[\"name\"] = test2[\"name\"].replace(\"ランチビュッフェ\", \"fried\")\n",
    "test2[\"name\"] = test2[\"name\"].replace(\"青椒肉絲\", \"fried\")\n",
    "test2[\"name\"] = test2[\"name\"].replace(\"チャプチェ\", \"fried\")\n",
    "test2[\"name\"] = test2[\"name\"].replace(\"hamburg\", \"fried\")\n",
    "test2[\"name\"] = test2[\"name\"].replace(\"おでん\", \"fried\")"
   ]
  },
  {
   "cell_type": "code",
   "execution_count": 252,
   "id": "4d76bb99",
   "metadata": {},
   "outputs": [
    {
     "name": "stderr",
     "output_type": "stream",
     "text": [
      "<ipython-input-252-95cba4c60701>:3: SettingWithCopyWarning: \n",
      "A value is trying to be set on a copy of a slice from a DataFrame\n",
      "\n",
      "See the caveats in the documentation: https://pandas.pydata.org/pandas-docs/stable/user_guide/indexing.html#returning-a-view-versus-a-copy\n",
      "  test2['name'][i] = \"fried\"\n",
      "<ipython-input-252-95cba4c60701>:5: SettingWithCopyWarning: \n",
      "A value is trying to be set on a copy of a slice from a DataFrame\n",
      "\n",
      "See the caveats in the documentation: https://pandas.pydata.org/pandas-docs/stable/user_guide/indexing.html#returning-a-view-versus-a-copy\n",
      "  test2['name'][i] = \"fried\"\n",
      "<ipython-input-252-95cba4c60701>:7: SettingWithCopyWarning: \n",
      "A value is trying to be set on a copy of a slice from a DataFrame\n",
      "\n",
      "See the caveats in the documentation: https://pandas.pydata.org/pandas-docs/stable/user_guide/indexing.html#returning-a-view-versus-a-copy\n",
      "  test2['name'][i] = \"fish\"\n"
     ]
    }
   ],
   "source": [
    "for i in range(0, 143):\n",
    "    if \"チリソース\" in test2['name'][i]:\n",
    "        test2['name'][i] = \"fried\"\n",
    "    elif \"焼\" in test2['name'][i]:\n",
    "          test2['name'][i] = \"fried\"\n",
    "    elif \"アジ\" in test2['name'][i]:\n",
    "          test2['name'][i] = \"fish\""
   ]
  },
  {
   "cell_type": "code",
   "execution_count": 254,
   "id": "c365f1eb",
   "metadata": {},
   "outputs": [],
   "source": [
    "test2[\"name\"] = test2[\"name\"].replace(\"肉豆腐\", \"boiled\")\n",
    "test2[\"name\"] = test2[\"name\"].replace(\"ぶり照り焼き・根菜添え\", \"fish\")"
   ]
  },
  {
   "cell_type": "code",
   "execution_count": 255,
   "id": "6b0d7b3b",
   "metadata": {},
   "outputs": [
    {
     "data": {
      "text/plain": [
       "fried        58\n",
       "deepfried    44\n",
       "curry        20\n",
       "boiled       10\n",
       "fish          7\n",
       "rice          3\n",
       "soup          2\n",
       "Name: name, dtype: int64"
      ]
     },
     "execution_count": 255,
     "metadata": {},
     "output_type": "execute_result"
    }
   ],
   "source": [
    "test2[\"name\"].value_counts()"
   ]
  },
  {
   "cell_type": "code",
   "execution_count": 257,
   "id": "279a8b7b",
   "metadata": {},
   "outputs": [],
   "source": [
    "test2 = test2[['week', 'soldout', 'kcal','precipitation', 'temperature','payday','weather','remarks','name']]"
   ]
  },
  {
   "cell_type": "code",
   "execution_count": 258,
   "id": "05a38ee5",
   "metadata": {},
   "outputs": [],
   "source": [
    "test2 = pd.get_dummies(test2)"
   ]
  },
  {
   "cell_type": "code",
   "execution_count": 259,
   "id": "92e1ead7",
   "metadata": {},
   "outputs": [
    {
     "data": {
      "text/html": [
       "<div>\n",
       "<style scoped>\n",
       "    .dataframe tbody tr th:only-of-type {\n",
       "        vertical-align: middle;\n",
       "    }\n",
       "\n",
       "    .dataframe tbody tr th {\n",
       "        vertical-align: top;\n",
       "    }\n",
       "\n",
       "    .dataframe thead th {\n",
       "        text-align: right;\n",
       "    }\n",
       "</style>\n",
       "<table border=\"1\" class=\"dataframe\">\n",
       "  <thead>\n",
       "    <tr style=\"text-align: right;\">\n",
       "      <th></th>\n",
       "      <th>soldout</th>\n",
       "      <th>kcal</th>\n",
       "      <th>precipitation</th>\n",
       "      <th>temperature</th>\n",
       "      <th>week_Fri</th>\n",
       "      <th>week_Mon</th>\n",
       "      <th>week_Thu</th>\n",
       "      <th>week_Tue</th>\n",
       "      <th>week_Wed</th>\n",
       "      <th>payday_0</th>\n",
       "      <th>payday_1</th>\n",
       "      <th>weather_rainy</th>\n",
       "      <th>weather_sunny</th>\n",
       "      <th>remarks_0</th>\n",
       "      <th>remarks_1</th>\n",
       "      <th>name_boiled</th>\n",
       "      <th>name_curry</th>\n",
       "      <th>name_deepfried</th>\n",
       "      <th>name_fish</th>\n",
       "      <th>name_fried</th>\n",
       "      <th>name_rice</th>\n",
       "      <th>name_soup</th>\n",
       "    </tr>\n",
       "  </thead>\n",
       "  <tbody>\n",
       "    <tr>\n",
       "      <th>0</th>\n",
       "      <td>0</td>\n",
       "      <td>428.0</td>\n",
       "      <td>19.0</td>\n",
       "      <td>23.0</td>\n",
       "      <td>0</td>\n",
       "      <td>1</td>\n",
       "      <td>0</td>\n",
       "      <td>0</td>\n",
       "      <td>0</td>\n",
       "      <td>1</td>\n",
       "      <td>0</td>\n",
       "      <td>1</td>\n",
       "      <td>0</td>\n",
       "      <td>1</td>\n",
       "      <td>0</td>\n",
       "      <td>0</td>\n",
       "      <td>0</td>\n",
       "      <td>0</td>\n",
       "      <td>0</td>\n",
       "      <td>1</td>\n",
       "      <td>0</td>\n",
       "      <td>0</td>\n",
       "    </tr>\n",
       "    <tr>\n",
       "      <th>1</th>\n",
       "      <td>0</td>\n",
       "      <td>420.0</td>\n",
       "      <td>65.5</td>\n",
       "      <td>20.0</td>\n",
       "      <td>0</td>\n",
       "      <td>0</td>\n",
       "      <td>0</td>\n",
       "      <td>1</td>\n",
       "      <td>0</td>\n",
       "      <td>1</td>\n",
       "      <td>0</td>\n",
       "      <td>1</td>\n",
       "      <td>0</td>\n",
       "      <td>1</td>\n",
       "      <td>0</td>\n",
       "      <td>0</td>\n",
       "      <td>0</td>\n",
       "      <td>0</td>\n",
       "      <td>0</td>\n",
       "      <td>1</td>\n",
       "      <td>0</td>\n",
       "      <td>0</td>\n",
       "    </tr>\n",
       "    <tr>\n",
       "      <th>2</th>\n",
       "      <td>0</td>\n",
       "      <td>456.0</td>\n",
       "      <td>156.5</td>\n",
       "      <td>22.4</td>\n",
       "      <td>0</td>\n",
       "      <td>0</td>\n",
       "      <td>0</td>\n",
       "      <td>0</td>\n",
       "      <td>1</td>\n",
       "      <td>1</td>\n",
       "      <td>0</td>\n",
       "      <td>1</td>\n",
       "      <td>0</td>\n",
       "      <td>1</td>\n",
       "      <td>0</td>\n",
       "      <td>0</td>\n",
       "      <td>0</td>\n",
       "      <td>0</td>\n",
       "      <td>0</td>\n",
       "      <td>1</td>\n",
       "      <td>0</td>\n",
       "      <td>0</td>\n",
       "    </tr>\n",
       "    <tr>\n",
       "      <th>3</th>\n",
       "      <td>1</td>\n",
       "      <td>439.0</td>\n",
       "      <td>50.0</td>\n",
       "      <td>21.8</td>\n",
       "      <td>0</td>\n",
       "      <td>0</td>\n",
       "      <td>1</td>\n",
       "      <td>0</td>\n",
       "      <td>0</td>\n",
       "      <td>0</td>\n",
       "      <td>1</td>\n",
       "      <td>1</td>\n",
       "      <td>0</td>\n",
       "      <td>1</td>\n",
       "      <td>0</td>\n",
       "      <td>0</td>\n",
       "      <td>0</td>\n",
       "      <td>1</td>\n",
       "      <td>0</td>\n",
       "      <td>0</td>\n",
       "      <td>0</td>\n",
       "      <td>0</td>\n",
       "    </tr>\n",
       "    <tr>\n",
       "      <th>4</th>\n",
       "      <td>0</td>\n",
       "      <td>NaN</td>\n",
       "      <td>0.0</td>\n",
       "      <td>23.9</td>\n",
       "      <td>1</td>\n",
       "      <td>0</td>\n",
       "      <td>0</td>\n",
       "      <td>0</td>\n",
       "      <td>0</td>\n",
       "      <td>1</td>\n",
       "      <td>0</td>\n",
       "      <td>0</td>\n",
       "      <td>1</td>\n",
       "      <td>0</td>\n",
       "      <td>1</td>\n",
       "      <td>0</td>\n",
       "      <td>1</td>\n",
       "      <td>0</td>\n",
       "      <td>0</td>\n",
       "      <td>0</td>\n",
       "      <td>0</td>\n",
       "      <td>0</td>\n",
       "    </tr>\n",
       "  </tbody>\n",
       "</table>\n",
       "</div>"
      ],
      "text/plain": [
       "   soldout   kcal  precipitation  temperature  week_Fri  week_Mon  week_Thu  \\\n",
       "0        0  428.0           19.0         23.0         0         1         0   \n",
       "1        0  420.0           65.5         20.0         0         0         0   \n",
       "2        0  456.0          156.5         22.4         0         0         0   \n",
       "3        1  439.0           50.0         21.8         0         0         1   \n",
       "4        0    NaN            0.0         23.9         1         0         0   \n",
       "\n",
       "   week_Tue  week_Wed  payday_0  payday_1  weather_rainy  weather_sunny  \\\n",
       "0         0         0         1         0              1              0   \n",
       "1         1         0         1         0              1              0   \n",
       "2         0         1         1         0              1              0   \n",
       "3         0         0         0         1              1              0   \n",
       "4         0         0         1         0              0              1   \n",
       "\n",
       "   remarks_0  remarks_1  name_boiled  name_curry  name_deepfried  name_fish  \\\n",
       "0          1          0            0           0               0          0   \n",
       "1          1          0            0           0               0          0   \n",
       "2          1          0            0           0               0          0   \n",
       "3          1          0            0           0               1          0   \n",
       "4          0          1            0           1               0          0   \n",
       "\n",
       "   name_fried  name_rice  name_soup  \n",
       "0           1          0          0  \n",
       "1           1          0          0  \n",
       "2           1          0          0  \n",
       "3           0          0          0  \n",
       "4           0          0          0  "
      ]
     },
     "execution_count": 259,
     "metadata": {},
     "output_type": "execute_result"
    }
   ],
   "source": [
    "test2.head()"
   ]
  },
  {
   "cell_type": "code",
   "execution_count": 263,
   "id": "3fa7fbdf",
   "metadata": {},
   "outputs": [],
   "source": [
    "test2 = test2.drop(test2.columns[9], axis=1)"
   ]
  },
  {
   "cell_type": "code",
   "execution_count": 264,
   "id": "9dacabbe",
   "metadata": {},
   "outputs": [],
   "source": [
    "test2 = test2.drop(test2.columns[11], axis=1)"
   ]
  },
  {
   "cell_type": "code",
   "execution_count": 265,
   "id": "3621edff",
   "metadata": {},
   "outputs": [],
   "source": [
    "test2 = test2.drop(test2.columns[11], axis=1)"
   ]
  },
  {
   "cell_type": "code",
   "execution_count": 266,
   "id": "30581796",
   "metadata": {},
   "outputs": [],
   "source": [
    "test2 = test2.rename(columns={'payday_1': 'payday'})\n",
    "test2 = test2.rename(columns={'remarks_1': 'remarks'})\n",
    "test2 = test2.rename(columns={'weather_rainy': 'rainy'})"
   ]
  },
  {
   "cell_type": "markdown",
   "id": "f4a2e7c5",
   "metadata": {},
   "source": [
    "変数の数を合わせる"
   ]
  },
  {
   "cell_type": "code",
   "execution_count": 268,
   "id": "de55a46e",
   "metadata": {},
   "outputs": [],
   "source": [
    "def fill_missing_columns(X, test2):\n",
    "    columns_for_test2 = set(X.columns) - set(test2.columns)\n",
    "    for column in columns_for_test2:\n",
    "        test2[column] = 0\n",
    "    columns_for_X = set(test2.columns) - set(X.columns)\n",
    "    for column in columns_for_X:\n",
    "        X[column] = 0"
   ]
  },
  {
   "cell_type": "code",
   "execution_count": 269,
   "id": "ad770559",
   "metadata": {},
   "outputs": [],
   "source": [
    "fill_missing_columns(X, test2)\n",
    "\n",
    "X.sort_index(axis=1, inplace=True)\n",
    "test2.sort_index(axis=1, inplace=True)"
   ]
  },
  {
   "cell_type": "code",
   "execution_count": 270,
   "id": "0d0ef8dd",
   "metadata": {},
   "outputs": [],
   "source": [
    "y = train2['y'] "
   ]
  },
  {
   "cell_type": "markdown",
   "id": "15a6a72b",
   "metadata": {},
   "source": [
    "train_test_split"
   ]
  },
  {
   "cell_type": "code",
   "execution_count": 271,
   "id": "ff34d2bf",
   "metadata": {},
   "outputs": [],
   "source": [
    "X_train, X_test, y_train, y_test = train_test_split(X, y, test_size = 0.01, random_state = 0)"
   ]
  },
  {
   "cell_type": "code",
   "execution_count": 272,
   "id": "a45e24c7",
   "metadata": {},
   "outputs": [
    {
     "data": {
      "text/html": [
       "<div>\n",
       "<style scoped>\n",
       "    .dataframe tbody tr th:only-of-type {\n",
       "        vertical-align: middle;\n",
       "    }\n",
       "\n",
       "    .dataframe tbody tr th {\n",
       "        vertical-align: top;\n",
       "    }\n",
       "\n",
       "    .dataframe thead th {\n",
       "        text-align: right;\n",
       "    }\n",
       "</style>\n",
       "<table border=\"1\" class=\"dataframe\">\n",
       "  <thead>\n",
       "    <tr style=\"text-align: right;\">\n",
       "      <th></th>\n",
       "      <th>kcal</th>\n",
       "      <th>name_boiled</th>\n",
       "      <th>name_curry</th>\n",
       "      <th>name_deepfried</th>\n",
       "      <th>name_fish</th>\n",
       "      <th>name_fried</th>\n",
       "      <th>name_noodles</th>\n",
       "      <th>name_rice</th>\n",
       "      <th>name_soup</th>\n",
       "      <th>payday</th>\n",
       "      <th>precipitation</th>\n",
       "      <th>rainy</th>\n",
       "      <th>remarks</th>\n",
       "      <th>soldout</th>\n",
       "      <th>temperature</th>\n",
       "      <th>week_Fri</th>\n",
       "      <th>week_Mon</th>\n",
       "      <th>week_Thu</th>\n",
       "      <th>week_Tue</th>\n",
       "      <th>week_Wed</th>\n",
       "    </tr>\n",
       "  </thead>\n",
       "  <tbody>\n",
       "    <tr>\n",
       "      <th>199</th>\n",
       "      <td>430.0</td>\n",
       "      <td>1</td>\n",
       "      <td>0</td>\n",
       "      <td>0</td>\n",
       "      <td>0</td>\n",
       "      <td>0</td>\n",
       "      <td>0</td>\n",
       "      <td>0</td>\n",
       "      <td>0</td>\n",
       "      <td>0</td>\n",
       "      <td>0.0</td>\n",
       "      <td>0</td>\n",
       "      <td>0</td>\n",
       "      <td>1</td>\n",
       "      <td>4.7</td>\n",
       "      <td>0</td>\n",
       "      <td>0</td>\n",
       "      <td>0</td>\n",
       "      <td>1</td>\n",
       "      <td>0</td>\n",
       "    </tr>\n",
       "    <tr>\n",
       "      <th>235</th>\n",
       "      <td>443.0</td>\n",
       "      <td>0</td>\n",
       "      <td>0</td>\n",
       "      <td>0</td>\n",
       "      <td>0</td>\n",
       "      <td>1</td>\n",
       "      <td>0</td>\n",
       "      <td>0</td>\n",
       "      <td>0</td>\n",
       "      <td>0</td>\n",
       "      <td>0.0</td>\n",
       "      <td>0</td>\n",
       "      <td>0</td>\n",
       "      <td>0</td>\n",
       "      <td>12.3</td>\n",
       "      <td>1</td>\n",
       "      <td>0</td>\n",
       "      <td>0</td>\n",
       "      <td>0</td>\n",
       "      <td>0</td>\n",
       "    </tr>\n",
       "    <tr>\n",
       "      <th>15</th>\n",
       "      <td>382.0</td>\n",
       "      <td>0</td>\n",
       "      <td>0</td>\n",
       "      <td>0</td>\n",
       "      <td>0</td>\n",
       "      <td>1</td>\n",
       "      <td>0</td>\n",
       "      <td>0</td>\n",
       "      <td>0</td>\n",
       "      <td>0</td>\n",
       "      <td>4.5</td>\n",
       "      <td>1</td>\n",
       "      <td>0</td>\n",
       "      <td>1</td>\n",
       "      <td>15.2</td>\n",
       "      <td>0</td>\n",
       "      <td>0</td>\n",
       "      <td>0</td>\n",
       "      <td>1</td>\n",
       "      <td>0</td>\n",
       "    </tr>\n",
       "    <tr>\n",
       "      <th>318</th>\n",
       "      <td>423.0</td>\n",
       "      <td>0</td>\n",
       "      <td>0</td>\n",
       "      <td>1</td>\n",
       "      <td>0</td>\n",
       "      <td>0</td>\n",
       "      <td>0</td>\n",
       "      <td>0</td>\n",
       "      <td>0</td>\n",
       "      <td>0</td>\n",
       "      <td>0.0</td>\n",
       "      <td>1</td>\n",
       "      <td>0</td>\n",
       "      <td>1</td>\n",
       "      <td>29.1</td>\n",
       "      <td>0</td>\n",
       "      <td>0</td>\n",
       "      <td>1</td>\n",
       "      <td>0</td>\n",
       "      <td>0</td>\n",
       "    </tr>\n",
       "    <tr>\n",
       "      <th>63</th>\n",
       "      <td>363.0</td>\n",
       "      <td>0</td>\n",
       "      <td>0</td>\n",
       "      <td>0</td>\n",
       "      <td>0</td>\n",
       "      <td>1</td>\n",
       "      <td>0</td>\n",
       "      <td>0</td>\n",
       "      <td>0</td>\n",
       "      <td>0</td>\n",
       "      <td>0.0</td>\n",
       "      <td>0</td>\n",
       "      <td>0</td>\n",
       "      <td>1</td>\n",
       "      <td>25.8</td>\n",
       "      <td>0</td>\n",
       "      <td>0</td>\n",
       "      <td>0</td>\n",
       "      <td>0</td>\n",
       "      <td>1</td>\n",
       "    </tr>\n",
       "  </tbody>\n",
       "</table>\n",
       "</div>"
      ],
      "text/plain": [
       "      kcal  name_boiled  name_curry  name_deepfried  name_fish  name_fried  \\\n",
       "199  430.0            1           0               0          0           0   \n",
       "235  443.0            0           0               0          0           1   \n",
       "15   382.0            0           0               0          0           1   \n",
       "318  423.0            0           0               1          0           0   \n",
       "63   363.0            0           0               0          0           1   \n",
       "\n",
       "     name_noodles  name_rice  name_soup  payday  precipitation  rainy  \\\n",
       "199             0          0          0       0            0.0      0   \n",
       "235             0          0          0       0            0.0      0   \n",
       "15              0          0          0       0            4.5      1   \n",
       "318             0          0          0       0            0.0      1   \n",
       "63              0          0          0       0            0.0      0   \n",
       "\n",
       "     remarks  soldout  temperature  week_Fri  week_Mon  week_Thu  week_Tue  \\\n",
       "199        0        1          4.7         0         0         0         1   \n",
       "235        0        0         12.3         1         0         0         0   \n",
       "15         0        1         15.2         0         0         0         1   \n",
       "318        0        1         29.1         0         0         1         0   \n",
       "63         0        1         25.8         0         0         0         0   \n",
       "\n",
       "     week_Wed  \n",
       "199         0  \n",
       "235         0  \n",
       "15          0  \n",
       "318         0  \n",
       "63          1  "
      ]
     },
     "execution_count": 272,
     "metadata": {},
     "output_type": "execute_result"
    }
   ],
   "source": [
    "X_train.head()"
   ]
  },
  {
   "cell_type": "code",
   "execution_count": 273,
   "id": "32c809bc",
   "metadata": {
    "scrolled": true
   },
   "outputs": [
    {
     "data": {
      "text/plain": [
       "(337, 20)"
      ]
     },
     "execution_count": 273,
     "metadata": {},
     "output_type": "execute_result"
    }
   ],
   "source": [
    "X.shape"
   ]
  },
  {
   "cell_type": "markdown",
   "id": "ff41eef0",
   "metadata": {},
   "source": [
    "7. lightgbmで学習"
   ]
  },
  {
   "cell_type": "code",
   "execution_count": 278,
   "id": "641d12e0",
   "metadata": {},
   "outputs": [
    {
     "name": "stdout",
     "output_type": "stream",
     "text": [
      "[LightGBM] [Warning] Unknown parameter: objectivee\n",
      "[LightGBM] [Warning] Unknown parameter: objectivee\n",
      "[LightGBM] [Warning] Auto-choosing row-wise multi-threading, the overhead of testing was 0.000435 seconds.\n",
      "You can set `force_row_wise=true` to remove the overhead.\n",
      "And if memory is not enough, you can set `force_col_wise=true`.\n",
      "[LightGBM] [Info] Total Bins 196\n",
      "[LightGBM] [Info] Number of data points in the train set: 333, number of used features: 15\n",
      "[LightGBM] [Warning] Unknown parameter: objectivee\n",
      "[LightGBM] [Info] Start training from score 65.312312\n",
      "[LightGBM] [Warning] No further splits with positive gain, best gain: -inf\n",
      "[1]\ttraining's rmse: 19.7345\tvalid_1's rmse: 13.6029\n",
      "Training until validation scores don't improve for 10 rounds\n",
      "[LightGBM] [Warning] No further splits with positive gain, best gain: -inf\n",
      "[2]\ttraining's rmse: 18.874\tvalid_1's rmse: 13.1857\n",
      "[LightGBM] [Warning] No further splits with positive gain, best gain: -inf\n",
      "[3]\ttraining's rmse: 18.0399\tvalid_1's rmse: 12.4506\n",
      "[LightGBM] [Warning] No further splits with positive gain, best gain: -inf\n",
      "[4]\ttraining's rmse: 17.3688\tvalid_1's rmse: 12.2808\n",
      "[LightGBM] [Warning] No further splits with positive gain, best gain: -inf\n",
      "[5]\ttraining's rmse: 16.7927\tvalid_1's rmse: 12.1452\n",
      "[LightGBM] [Warning] No further splits with positive gain, best gain: -inf\n",
      "[6]\ttraining's rmse: 16.2696\tvalid_1's rmse: 11.5535\n",
      "[LightGBM] [Warning] No further splits with positive gain, best gain: -inf\n",
      "[7]\ttraining's rmse: 15.7616\tvalid_1's rmse: 11.7659\n",
      "[LightGBM] [Warning] No further splits with positive gain, best gain: -inf\n",
      "[8]\ttraining's rmse: 15.365\tvalid_1's rmse: 11.8399\n",
      "[LightGBM] [Warning] No further splits with positive gain, best gain: -inf\n",
      "[9]\ttraining's rmse: 15.0167\tvalid_1's rmse: 11.4525\n",
      "[LightGBM] [Warning] No further splits with positive gain, best gain: -inf\n",
      "[10]\ttraining's rmse: 14.713\tvalid_1's rmse: 11.1153\n",
      "[LightGBM] [Warning] No further splits with positive gain, best gain: -inf\n",
      "[11]\ttraining's rmse: 14.3763\tvalid_1's rmse: 10.9308\n",
      "[LightGBM] [Warning] No further splits with positive gain, best gain: -inf\n",
      "[12]\ttraining's rmse: 14.1093\tvalid_1's rmse: 10.7653\n",
      "[LightGBM] [Warning] No further splits with positive gain, best gain: -inf\n",
      "[13]\ttraining's rmse: 13.8409\tvalid_1's rmse: 10.2962\n",
      "[LightGBM] [Warning] No further splits with positive gain, best gain: -inf\n",
      "[14]\ttraining's rmse: 13.6584\tvalid_1's rmse: 10.0624\n",
      "[LightGBM] [Warning] No further splits with positive gain, best gain: -inf\n",
      "[15]\ttraining's rmse: 13.4401\tvalid_1's rmse: 9.93839\n",
      "[LightGBM] [Warning] No further splits with positive gain, best gain: -inf\n",
      "[16]\ttraining's rmse: 13.2915\tvalid_1's rmse: 9.69801\n",
      "[LightGBM] [Warning] No further splits with positive gain, best gain: -inf\n",
      "[17]\ttraining's rmse: 13.1118\tvalid_1's rmse: 9.60281\n",
      "[LightGBM] [Warning] No further splits with positive gain, best gain: -inf\n",
      "[18]\ttraining's rmse: 12.9976\tvalid_1's rmse: 9.40563\n",
      "[LightGBM] [Warning] No further splits with positive gain, best gain: -inf\n",
      "[19]\ttraining's rmse: 12.8579\tvalid_1's rmse: 9.51187\n",
      "[LightGBM] [Warning] No further splits with positive gain, best gain: -inf\n",
      "[20]\ttraining's rmse: 12.6923\tvalid_1's rmse: 9.35616\n",
      "[LightGBM] [Warning] No further splits with positive gain, best gain: -inf\n",
      "[21]\ttraining's rmse: 12.565\tvalid_1's rmse: 9.32343\n",
      "[LightGBM] [Warning] No further splits with positive gain, best gain: -inf\n",
      "[22]\ttraining's rmse: 12.4361\tvalid_1's rmse: 9.14463\n",
      "[LightGBM] [Warning] No further splits with positive gain, best gain: -inf\n",
      "[23]\ttraining's rmse: 12.3263\tvalid_1's rmse: 9.12573\n",
      "[LightGBM] [Warning] No further splits with positive gain, best gain: -inf\n",
      "[24]\ttraining's rmse: 12.2285\tvalid_1's rmse: 8.81492\n",
      "[LightGBM] [Warning] No further splits with positive gain, best gain: -inf\n",
      "[25]\ttraining's rmse: 12.1078\tvalid_1's rmse: 8.85701\n",
      "[LightGBM] [Warning] No further splits with positive gain, best gain: -inf\n",
      "[26]\ttraining's rmse: 12.0276\tvalid_1's rmse: 8.9702\n",
      "[LightGBM] [Warning] No further splits with positive gain, best gain: -inf\n",
      "[27]\ttraining's rmse: 11.9565\tvalid_1's rmse: 9.06983\n",
      "[LightGBM] [Warning] No further splits with positive gain, best gain: -inf\n",
      "[28]\ttraining's rmse: 11.854\tvalid_1's rmse: 9.1841\n",
      "[LightGBM] [Warning] No further splits with positive gain, best gain: -inf\n",
      "[29]\ttraining's rmse: 11.77\tvalid_1's rmse: 9.10006\n",
      "[LightGBM] [Warning] No further splits with positive gain, best gain: -inf\n",
      "[30]\ttraining's rmse: 11.7135\tvalid_1's rmse: 9.02415\n",
      "[LightGBM] [Warning] No further splits with positive gain, best gain: -inf\n",
      "[31]\ttraining's rmse: 11.6163\tvalid_1's rmse: 9.1779\n",
      "[LightGBM] [Warning] No further splits with positive gain, best gain: -inf\n",
      "[32]\ttraining's rmse: 11.5016\tvalid_1's rmse: 9.13677\n",
      "[LightGBM] [Warning] No further splits with positive gain, best gain: -inf\n",
      "[33]\ttraining's rmse: 11.4079\tvalid_1's rmse: 9.10272\n",
      "[LightGBM] [Warning] No further splits with positive gain, best gain: -inf\n",
      "[34]\ttraining's rmse: 11.3326\tvalid_1's rmse: 8.99791\n",
      "Early stopping, best iteration is:\n",
      "[24]\ttraining's rmse: 12.2285\tvalid_1's rmse: 8.81492\n"
     ]
    },
    {
     "name": "stderr",
     "output_type": "stream",
     "text": [
      "C:\\Users\\natsu\\anaconda3\\lib\\site-packages\\lightgbm\\engine.py:177: UserWarning: Found `n_estimators` in params. Will use it instead of argument\n",
      "  _log_warning(f\"Found `{alias}` in params. Will use it instead of argument\")\n"
     ]
    }
   ],
   "source": [
    "lgb_train = lgb.Dataset(X_train, y_train)\n",
    "lgb_eval = lgb.Dataset(X_test, y_test, reference=lgb_train) \n",
    "\n",
    "# LightGBM parameters\n",
    "params = {\n",
    "        'task': 'train',\n",
    "        'boosting_type': 'gbdt',\n",
    "        'objectivee': 'regression', # 目的 : 回帰  \n",
    "        'metric': {'rmse'}, # 評価指標 : rsme(平均二乗誤差の平方根) \n",
    "        'early_stopping_rounds':10,\n",
    "        'n_estimators' : 10000\n",
    "         }\n",
    "\n",
    "# モデルの学習\n",
    "model = lgb.train(params = params,\n",
    "                  train_set=lgb_train, # トレー_ニングデータの指定\n",
    "                  valid_sets=[lgb_train, lgb_eval], # 検証データの指定\n",
    "                  )\n",
    "\n",
    "#clf = lgb.LGBMRegressor()\n",
    "#clf.fit(X_train, y_train)"
   ]
  },
  {
   "cell_type": "markdown",
   "id": "5f101fb5",
   "metadata": {},
   "source": [
    "8. RMSEで評価"
   ]
  },
  {
   "cell_type": "code",
   "execution_count": 279,
   "id": "00e25dc7",
   "metadata": {},
   "outputs": [],
   "source": [
    "y_pred_train = model.predict(X_train)\n",
    "y_pred_test = model.predict(X_test)"
   ]
  },
  {
   "cell_type": "code",
   "execution_count": 280,
   "id": "d97ea8d6",
   "metadata": {},
   "outputs": [],
   "source": [
    "mse_train = MSE(y_train,y_pred_train)\n",
    "mse_test = MSE(y_test, y_pred_test)"
   ]
  },
  {
   "cell_type": "code",
   "execution_count": 281,
   "id": "22c9eabc",
   "metadata": {},
   "outputs": [],
   "source": [
    "rmse_train = np.sqrt(mse_train)\n",
    "rmse_test = np.sqrt(mse_test)"
   ]
  },
  {
   "cell_type": "code",
   "execution_count": 282,
   "id": "0fee9290",
   "metadata": {},
   "outputs": [
    {
     "name": "stdout",
     "output_type": "stream",
     "text": [
      "12.22849775179996\n",
      "8.814918277995158\n"
     ]
    }
   ],
   "source": [
    "print(rmse_train)\n",
    "print(rmse_test)"
   ]
  },
  {
   "cell_type": "code",
   "execution_count": 283,
   "id": "f9b77e5b",
   "metadata": {},
   "outputs": [],
   "source": [
    "submit = pd.read_csv(\"submit_sample.csv\", header=None)"
   ]
  },
  {
   "cell_type": "code",
   "execution_count": null,
   "id": "bbee28be",
   "metadata": {},
   "outputs": [],
   "source": [
    "test['kcal'] = test['kcal'].fillna(test['kcal'].mean())"
   ]
  },
  {
   "cell_type": "code",
   "execution_count": 287,
   "id": "bc024c28",
   "metadata": {},
   "outputs": [],
   "source": [
    "X_for_submit = test2\n",
    "submit[1] = model.predict(X_for_submit)"
   ]
  },
  {
   "cell_type": "code",
   "execution_count": 289,
   "id": "07ee6146",
   "metadata": {},
   "outputs": [],
   "source": [
    "submit.to_csv(\"submit.csv\", index=False, header=False)"
   ]
  }
 ],
 "metadata": {
  "kernelspec": {
   "display_name": "Python 3",
   "language": "python",
   "name": "python3"
  },
  "language_info": {
   "codemirror_mode": {
    "name": "ipython",
    "version": 3
   },
   "file_extension": ".py",
   "mimetype": "text/x-python",
   "name": "python",
   "nbconvert_exporter": "python",
   "pygments_lexer": "ipython3",
   "version": "3.8.8"
  }
 },
 "nbformat": 4,
 "nbformat_minor": 5
}
